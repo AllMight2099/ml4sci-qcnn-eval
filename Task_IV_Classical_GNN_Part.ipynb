{
  "nbformat": 4,
  "nbformat_minor": 0,
  "metadata": {
    "colab": {
      "name": "Task IV: Classical GNN Part.ipynb",
      "provenance": [],
      "include_colab_link": true
    },
    "kernelspec": {
      "name": "python3",
      "display_name": "Python 3"
    },
    "language_info": {
      "name": "python"
    },
    "accelerator": "TPU"
  },
  "cells": [
    {
      "cell_type": "markdown",
      "metadata": {
        "id": "view-in-github",
        "colab_type": "text"
      },
      "source": [
        "<a href=\"https://colab.research.google.com/github/AllMight2099/ml4sci-qcnn-eval/blob/master/Task_IV_Classical_GNN_Part.ipynb\" target=\"_parent\"><img src=\"https://colab.research.google.com/assets/colab-badge.svg\" alt=\"Open In Colab\"/></a>"
      ]
    },
    {
      "cell_type": "code",
      "metadata": {
        "id": "LowrGmIBPfmT"
      },
      "source": [
        "\n",
        "!pip install stellargraph --quiet\n",
        "!pip install energyflow --quiet\n",
        "!pip install dgcnn --quiet"
      ],
      "execution_count": 6,
      "outputs": []
    },
    {
      "cell_type": "markdown",
      "metadata": {
        "id": "F3TzNqe4gLqx"
      },
      "source": [
        "# Load Data\n",
        "\n",
        "---\n",
        "\n"
      ]
    },
    {
      "cell_type": "code",
      "metadata": {
        "id": "-Ab4Dz2kEv-w"
      },
      "source": [
        "import energyflow\n",
        "import numpy as np\n",
        "\n",
        "%matplotlib inline\n",
        "import matplotlib.pyplot as plt "
      ],
      "execution_count": 7,
      "outputs": []
    },
    {
      "cell_type": "code",
      "metadata": {
        "colab": {
          "base_uri": "https://localhost:8080/"
        },
        "id": "nxu_luciy2CO",
        "outputId": "e1efae49-1563-48d0-aa22-9333a0065376"
      },
      "source": [
        "x,y = energyflow.qg_jets.load(num_data=100000, pad=True, ncol=4, generator='pythia',\n",
        "                         with_bc=True, cache_dir='~/.energyflow')\n",
        "print(x.shape)\n",
        "X = []\n",
        "for i in x:\n",
        "  X.append(i[0])\n",
        "X = np.array(X)\n",
        "X.shape"
      ],
      "execution_count": 8,
      "outputs": [
        {
          "output_type": "stream",
          "text": [
            "(100000, 134, 4)\n"
          ],
          "name": "stdout"
        },
        {
          "output_type": "execute_result",
          "data": {
            "text/plain": [
              "(100000, 4)"
            ]
          },
          "metadata": {
            "tags": []
          },
          "execution_count": 8
        }
      ]
    },
    {
      "cell_type": "code",
      "metadata": {
        "colab": {
          "base_uri": "https://localhost:8080/",
          "height": 265
        },
        "id": "lELMwWQoEr6V",
        "outputId": "7a526875-6f30-42c4-c2ae-15211e142941"
      },
      "source": [
        "plt.hist(y)\n",
        "plt.show()"
      ],
      "execution_count": 9,
      "outputs": [
        {
          "output_type": "display_data",
          "data": {
            "image/png": "[encoded data removed]",
            "text/plain": [
              "<Figure size 432x288 with 1 Axes>"
            ]
          },
          "metadata": {
            "tags": [],
            "needs_background": "light"
          }
        }
      ]
    },
    {
      "cell_type": "markdown",
      "metadata": {
        "id": "MCqaKTtNgfq7"
      },
      "source": [
        "# Encoding each Data Sample into a Graph\n",
        "\n",
        "\n",
        "---\n",
        "\n",
        "\n",
        "### Using **Stellargraph** to create a list of 100000 graphs"
      ]
    },
    {
      "cell_type": "code",
      "metadata": {
        "colab": {
          "base_uri": "https://localhost:8080/"
        },
        "id": "anHVwU15L2IF",
        "outputId": "4e57114b-18cb-4927-fe0f-a9b07f6b49eb"
      },
      "source": [
        "from stellargraph import StellarGraph\n",
        "from stellargraph import IndexedArray\n",
        "import pandas as pd\n",
        "squared_numeric_edges = pd.DataFrame(\n",
        "    {\"source\": [0, 1, 2, 3, 0], \"target\": [1, 2, 3, 0, 2]}\n",
        ")\n",
        "print(squared_numeric_edges)\n",
        "X_train = []\n",
        "\n",
        "for features in X:\n",
        "  feature_array=[]\n",
        "  for feature in features:\n",
        "    feature_array.append(feature)\n",
        "  indexed_array = IndexedArray(np.array([feature_array]).T, index=[0,1,2,3])\n",
        "  G = StellarGraph(indexed_array, squared_numeric_edges,node_type_default=\"corner\", edge_type_default=\"line\")\n",
        "  X_train.append(G)"
      ],
      "execution_count": 10,
      "outputs": [
        {
          "output_type": "stream",
          "text": [
            "   source  target\n",
            "0       0       1\n",
            "1       1       2\n",
            "2       2       3\n",
            "3       3       0\n",
            "4       0       2\n"
          ],
          "name": "stdout"
        }
      ]
    },
    {
      "cell_type": "code",
      "metadata": {
        "colab": {
          "base_uri": "https://localhost:8080/",
          "height": 52
        },
        "id": "WdWMR6FuacL4",
        "outputId": "90e00622-a5bf-4edc-bb06-b3f5426ced44"
      },
      "source": [
        "graphs=X_train\n",
        "graph_labels= pd.DataFrame(y, columns = ['Classification'])\n",
        "graphs[0].info()"
      ],
      "execution_count": 11,
      "outputs": [
        {
          "output_type": "execute_result",
          "data": {
            "application/vnd.google.colaboratory.intrinsic+json": {
              "type": "string"
            },
            "text/plain": [
              "'StellarGraph: Undirected multigraph\\n Nodes: 4, Edges: 5\\n\\n Node types:\\n  corner: [4]\\n    Features: float64 vector, length 1\\n    Edge types: corner-line->corner\\n\\n Edge types:\\n    corner-line->corner: [5]\\n        Weights: all 1 (default)\\n        Features: none'"
            ]
          },
          "metadata": {
            "tags": []
          },
          "execution_count": 11
        }
      ]
    },
    {
      "cell_type": "markdown",
      "metadata": {
        "id": "CUhXp_tZhNj1"
      },
      "source": [
        "# **Supervised graph classification with Deep Graph CNN** \n",
        "\n",
        "\n",
        "---\n",
        "\n",
        "\n",
        "In supervised graph classification, we are given a collection of graphs each \n",
        "with an attached categorical label. \n",
        "* My goal is to train a model that uses the graph structure of the data and the given properties for each jet, to predict the correct label for a previously unseen graph; a previously unseen graph is one that was not used for training and validating the model.\n",
        "\n",
        "\n",
        "I'm going ahead with the **Deep Graph Convolutional Neural Network** for this task.\n",
        "\n",
        "* The DGCNN architecture was proposed in [[1]](https://www.aaai.org/ocs/index.php/AAAI/AAAI18/paper/viewPaper/17146) using the graph convolutional layers from [[2]](https://arxiv.org/abs/1609.02907) but with a **modified propagation rule **(see [[1]](https://www.aaai.org/ocs/index.php/AAAI/AAAI18/paper/viewPaper/17146) for details). \n",
        "\n",
        "* DGCNN introduces a new **`SortPooling layer`** to generate a representation (also know as embedding) for each given graph using as input the representations learned for each node via a stack of **graph convolutional layers**. \n",
        "* The **output** of the `SortPooling layer` is then used as input to **1D convolutional, max pooling, and dense layers** that learn graph-level features suitable for predicting graph labels.\n",
        "\n"
      ]
    },
    {
      "cell_type": "code",
      "metadata": {
        "id": "smEi0BFjaLNX"
      },
      "source": [
        "import pandas as pd\n",
        "import numpy as np\n",
        "\n",
        "import stellargraph as sg\n",
        "from stellargraph.mapper import PaddedGraphGenerator\n",
        "from stellargraph.layer import DeepGraphCNN\n",
        "from stellargraph import StellarGraph\n",
        "\n",
        "from stellargraph import datasets\n",
        "\n",
        "from sklearn import model_selection\n",
        "from IPython.display import display, HTML\n",
        "\n",
        "from tensorflow.keras import Model\n",
        "from tensorflow.keras.optimizers import Adam\n",
        "from tensorflow.keras.layers import Dense, Conv1D, MaxPool1D, Dropout, Flatten\n",
        "from tensorflow.keras.losses import binary_crossentropy\n",
        "import tensorflow as tf"
      ],
      "execution_count": null,
      "outputs": []
    },
    {
      "cell_type": "code",
      "metadata": {
        "id": "sLQSDY5baNBS"
      },
      "source": [
        "summary = pd.DataFrame(\n",
        "    [(g.number_of_nodes(), g.number_of_edges()) for g in graphs],\n",
        "    columns=[\"nodes\", \"edges\"],\n",
        ")\n",
        "summary.describe().round(1)\n",
        "graph_labels.value_counts().to_frame()\n",
        "graph_labels = pd.get_dummies(graph_labels, drop_first=True)"
      ],
      "execution_count": null,
      "outputs": []
    },
    {
      "cell_type": "markdown",
      "metadata": {
        "id": "Y9V-zr9elvYw"
      },
      "source": [
        "# Prepare **Graph Generato**r and create the **Keras graph classification** model\n"
      ]
    },
    {
      "cell_type": "markdown",
      "metadata": {
        "id": "RiD0_ZAQmgRx"
      },
      "source": [
        "To feed data to the `tf.Keras` model that we will create later, we need a data generator. For this, I'm creating an instance of `StellarGraph`’s `PaddedGraphGenerator` class."
      ]
    },
    {
      "cell_type": "code",
      "metadata": {
        "id": "lXwWRC6oeuH5"
      },
      "source": [
        "generator = PaddedGraphGenerator(graphs=graphs)\n"
      ],
      "execution_count": null,
      "outputs": []
    },
    {
      "cell_type": "markdown",
      "metadata": {
        "id": "ts5GRKQemE5G"
      },
      "source": [
        "Creating the base DGCNN model that includes the graph convolutional and `SortPooling` layers."
      ]
    },
    {
      "cell_type": "code",
      "metadata": {
        "id": "rF6WAYQ7ew1c"
      },
      "source": [
        "k = 35  # the number of rows for the output tensor\n",
        "layer_sizes = [32, 32, 32, 1]\n",
        "\n",
        "dgcnn_model = DeepGraphCNN(\n",
        "    layer_sizes=layer_sizes,\n",
        "    activations=[\"tanh\", \"tanh\", \"tanh\", \"tanh\"],\n",
        "    k=k,\n",
        "    bias=False,\n",
        "    generator=generator,\n",
        ")\n",
        "x_inp, x_out = dgcnn_model.in_out_tensors()"
      ],
      "execution_count": null,
      "outputs": []
    },
    {
      "cell_type": "markdown",
      "metadata": {
        "id": "ttFPaJk3m0iK"
      },
      "source": [
        "Next, adding the convolutional, max pooling, and dense layers.\n",
        "[link text](https://)"
      ]
    },
    {
      "cell_type": "code",
      "metadata": {
        "id": "TcKtiHYqexD6"
      },
      "source": [
        "x_out = Conv1D(filters=16, kernel_size=sum(layer_sizes), strides=sum(layer_sizes))(x_out)\n",
        "x_out = MaxPool1D(pool_size=2)(x_out)\n",
        "\n",
        "x_out = Conv1D(filters=32, kernel_size=5, strides=1)(x_out)\n",
        "\n",
        "x_out = Flatten()(x_out)\n",
        "\n",
        "x_out = Dense(units=128, activation=\"relu\")(x_out)\n",
        "x_out = Dropout(rate=0.5)(x_out)\n",
        "\n",
        "predictions = Dense(units=1, activation=\"sigmoid\")(x_out)"
      ],
      "execution_count": null,
      "outputs": []
    },
    {
      "cell_type": "markdown",
      "metadata": {
        "id": "BOyyTeb1m7oh"
      },
      "source": [
        "Finally, creating the `Keras` model and I'll prepare it for training by specifying the loss and optimisation algorithm.\n",
        "\n"
      ]
    },
    {
      "cell_type": "code",
      "metadata": {
        "id": "ibufK4q7fGsm"
      },
      "source": [
        "model = Model(inputs=x_inp, outputs=predictions)\n",
        "\n",
        "model.compile(\n",
        "    optimizer=Adam(lr=0.0001), loss=binary_crossentropy, metrics=[\"acc\"],\n",
        ")\n"
      ],
      "execution_count": null,
      "outputs": []
    },
    {
      "cell_type": "markdown",
      "metadata": {
        "id": "u1ZPHcxxoId6"
      },
      "source": [
        "# **Train the model!**\n",
        "\n",
        "---\n",
        "\n"
      ]
    },
    {
      "cell_type": "markdown",
      "metadata": {
        "id": "X7UNeTQWnCjG"
      },
      "source": [
        "Before training, we need to split our data to training and test sets. I am going to use 90% of the data for training and the remaining 10% for testing. This 90/10 split is the equivalent of a single fold in the 10-fold cross validation scheme used in [[1]](https://www.aaai.org/ocs/index.php/AAAI/AAAI18/paper/viewPaper/17146)."
      ]
    },
    {
      "cell_type": "code",
      "metadata": {
        "id": "cCTsTA_NfNS0"
      },
      "source": [
        "train_graphs, test_graphs = model_selection.train_test_split(\n",
        "    graph_labels, train_size=0.9, test_size=None, stratify=graph_labels,\n",
        ")"
      ],
      "execution_count": null,
      "outputs": []
    },
    {
      "cell_type": "markdown",
      "metadata": {
        "id": "YsNxtcInnmj3"
      },
      "source": [
        "I'm now creating a `StellarGraph.PaddedGenerator` generator object that prepares the data for training. Its possible to create data generators suitable for training at `tf.keras` model by calling the latter generator’s `flow` method specifying the train and test data."
      ]
    },
    {
      "cell_type": "code",
      "metadata": {
        "id": "TtrkdASMfNoH"
      },
      "source": [
        "gen = PaddedGraphGenerator(graphs=graphs)\n",
        "\n",
        "train_gen = gen.flow(\n",
        "    list(train_graphs.index - 1),\n",
        "    targets=train_graphs.values,\n",
        "    batch_size=50,\n",
        "    symmetric_normalization=False,\n",
        ")\n",
        "\n",
        "test_gen = gen.flow(\n",
        "    list(test_graphs.index - 1),\n",
        "    targets=test_graphs.values,\n",
        "    batch_size=1,\n",
        "    symmetric_normalization=False,\n",
        ")"
      ],
      "execution_count": null,
      "outputs": []
    },
    {
      "cell_type": "code",
      "metadata": {
        "colab": {
          "base_uri": "https://localhost:8080/"
        },
        "id": "zIcmkRkhfN1u",
        "outputId": "79ae89ac-c31f-4418-e9d0-d08475a68718"
      },
      "source": [
        "epochs = 100\n",
        "history = model.fit(\n",
        "    train_gen, epochs=epochs, verbose=1, validation_data=test_gen, shuffle=True,\n",
        ")"
      ],
      "execution_count": null,
      "outputs": [
        {
          "output_type": "stream",
          "text": [
            "Epoch 1/100\n",
            "1800/1800 [==============================] - 58s 32ms/step - loss: 0.6931 - acc: 0.4986 - val_loss: 0.6931 - val_acc: 0.4973\n",
            "Epoch 2/100\n",
            "1800/1800 [==============================] - 51s 29ms/step - loss: 0.6931 - acc: 0.4979 - val_loss: 0.6931 - val_acc: 0.5002\n",
            "Epoch 3/100\n",
            "1800/1800 [==============================] - 57s 32ms/step - loss: 0.6931 - acc: 0.4992 - val_loss: 0.6932 - val_acc: 0.5023\n",
            "Epoch 4/100\n",
            "1800/1800 [==============================] - 54s 30ms/step - loss: 0.6931 - acc: 0.5029 - val_loss: 0.6931 - val_acc: 0.5004\n",
            "Epoch 5/100\n",
            "1800/1800 [==============================] - 50s 28ms/step - loss: 0.6931 - acc: 0.5013 - val_loss: 0.6931 - val_acc: 0.5004\n",
            "Epoch 6/100\n",
            "1800/1800 [==============================] - 49s 27ms/step - loss: 0.6931 - acc: 0.5027 - val_loss: 0.6932 - val_acc: 0.5009\n",
            "Epoch 7/100\n",
            "1800/1800 [==============================] - 50s 28ms/step - loss: 0.6931 - acc: 0.5019 - val_loss: 0.6932 - val_acc: 0.5000\n",
            "Epoch 8/100\n",
            "1800/1800 [==============================] - 51s 28ms/step - loss: 0.6931 - acc: 0.5016 - val_loss: 0.6931 - val_acc: 0.5000\n",
            "Epoch 9/100\n",
            "1800/1800 [==============================] - 50s 28ms/step - loss: 0.6931 - acc: 0.4985 - val_loss: 0.6932 - val_acc: 0.4999\n",
            "Epoch 10/100\n",
            "1800/1800 [==============================] - 51s 28ms/step - loss: 0.6931 - acc: 0.5003 - val_loss: 0.6931 - val_acc: 0.4976\n",
            "Epoch 11/100\n",
            "1800/1800 [==============================] - 51s 28ms/step - loss: 0.6931 - acc: 0.5001 - val_loss: 0.6931 - val_acc: 0.4984\n",
            "Epoch 12/100\n",
            "1800/1800 [==============================] - 51s 28ms/step - loss: 0.6931 - acc: 0.5019 - val_loss: 0.6932 - val_acc: 0.5000\n",
            "Epoch 13/100\n",
            "1800/1800 [==============================] - 50s 28ms/step - loss: 0.6931 - acc: 0.5014 - val_loss: 0.6931 - val_acc: 0.5002\n",
            "Epoch 14/100\n",
            "1800/1800 [==============================] - 50s 28ms/step - loss: 0.6931 - acc: 0.5009 - val_loss: 0.6931 - val_acc: 0.4993\n",
            "Epoch 15/100\n",
            "1800/1800 [==============================] - 50s 28ms/step - loss: 0.6931 - acc: 0.4984 - val_loss: 0.6931 - val_acc: 0.4973\n",
            "Epoch 16/100\n",
            "1800/1800 [==============================] - 50s 28ms/step - loss: 0.6931 - acc: 0.4987 - val_loss: 0.6932 - val_acc: 0.4975\n",
            "Epoch 17/100\n",
            "1800/1800 [==============================] - 51s 28ms/step - loss: 0.6931 - acc: 0.5015 - val_loss: 0.6932 - val_acc: 0.5028\n",
            "Epoch 18/100\n",
            "1800/1800 [==============================] - 51s 28ms/step - loss: 0.6931 - acc: 0.4991 - val_loss: 0.6932 - val_acc: 0.5009\n",
            "Epoch 19/100\n",
            "1800/1800 [==============================] - 52s 29ms/step - loss: 0.6931 - acc: 0.4993 - val_loss: 0.6932 - val_acc: 0.4981\n",
            "Epoch 20/100\n",
            "1800/1800 [==============================] - 51s 28ms/step - loss: 0.6931 - acc: 0.5003 - val_loss: 0.6931 - val_acc: 0.4998\n",
            "Epoch 21/100\n",
            "1800/1800 [==============================] - 50s 28ms/step - loss: 0.6931 - acc: 0.5006 - val_loss: 0.6931 - val_acc: 0.5038\n",
            "Epoch 22/100\n",
            "1800/1800 [==============================] - 50s 28ms/step - loss: 0.6931 - acc: 0.4981 - val_loss: 0.6931 - val_acc: 0.5010\n",
            "Epoch 23/100\n",
            "1800/1800 [==============================] - 51s 28ms/step - loss: 0.6931 - acc: 0.5007 - val_loss: 0.6931 - val_acc: 0.5007\n",
            "Epoch 24/100\n",
            "1800/1800 [==============================] - 51s 28ms/step - loss: 0.6931 - acc: 0.4970 - val_loss: 0.6932 - val_acc: 0.5015\n",
            "Epoch 25/100\n",
            "1800/1800 [==============================] - 51s 28ms/step - loss: 0.6931 - acc: 0.5004 - val_loss: 0.6932 - val_acc: 0.4986\n",
            "Epoch 26/100\n",
            "1800/1800 [==============================] - 50s 28ms/step - loss: 0.6931 - acc: 0.5016 - val_loss: 0.6932 - val_acc: 0.5017\n",
            "Epoch 27/100\n",
            "1800/1800 [==============================] - 51s 29ms/step - loss: 0.6931 - acc: 0.5029 - val_loss: 0.6932 - val_acc: 0.5004\n",
            "Epoch 28/100\n",
            "1800/1800 [==============================] - 53s 29ms/step - loss: 0.6931 - acc: 0.5033 - val_loss: 0.6932 - val_acc: 0.5022\n",
            "Epoch 29/100\n",
            "1800/1800 [==============================] - 51s 28ms/step - loss: 0.6931 - acc: 0.5024 - val_loss: 0.6932 - val_acc: 0.5009\n",
            "Epoch 30/100\n",
            "1800/1800 [==============================] - 49s 27ms/step - loss: 0.6931 - acc: 0.5030 - val_loss: 0.6932 - val_acc: 0.5002\n",
            "Epoch 31/100\n",
            "1800/1800 [==============================] - 49s 27ms/step - loss: 0.6931 - acc: 0.5013 - val_loss: 0.6933 - val_acc: 0.5002\n",
            "Epoch 32/100\n",
            "1800/1800 [==============================] - 50s 28ms/step - loss: 0.6931 - acc: 0.5004 - val_loss: 0.6932 - val_acc: 0.5009\n",
            "Epoch 33/100\n",
            "1800/1800 [==============================] - 51s 28ms/step - loss: 0.6931 - acc: 0.5007 - val_loss: 0.6931 - val_acc: 0.5013\n",
            "Epoch 34/100\n",
            "1800/1800 [==============================] - 53s 29ms/step - loss: 0.6931 - acc: 0.5019 - val_loss: 0.6932 - val_acc: 0.4997\n",
            "Epoch 35/100\n",
            "1800/1800 [==============================] - 61s 34ms/step - loss: 0.6931 - acc: 0.4998 - val_loss: 0.6931 - val_acc: 0.5000\n",
            "Epoch 36/100\n",
            "1800/1800 [==============================] - 62s 35ms/step - loss: 0.6931 - acc: 0.4994 - val_loss: 0.6932 - val_acc: 0.4972\n",
            "Epoch 37/100\n",
            "1800/1800 [==============================] - 50s 28ms/step - loss: 0.6931 - acc: 0.4995 - val_loss: 0.6932 - val_acc: 0.5004\n",
            "Epoch 38/100\n",
            "1800/1800 [==============================] - 50s 28ms/step - loss: 0.6931 - acc: 0.5014 - val_loss: 0.6931 - val_acc: 0.4998\n",
            "Epoch 39/100\n",
            "1800/1800 [==============================] - 49s 27ms/step - loss: 0.6931 - acc: 0.4994 - val_loss: 0.6931 - val_acc: 0.4965\n",
            "Epoch 40/100\n",
            "1800/1800 [==============================] - 49s 27ms/step - loss: 0.6931 - acc: 0.4985 - val_loss: 0.6932 - val_acc: 0.5006\n",
            "Epoch 41/100\n",
            "1800/1800 [==============================] - 49s 27ms/step - loss: 0.6931 - acc: 0.5025 - val_loss: 0.6932 - val_acc: 0.4980\n",
            "Epoch 42/100\n",
            "1800/1800 [==============================] - 49s 27ms/step - loss: 0.6931 - acc: 0.5010 - val_loss: 0.6932 - val_acc: 0.5003\n",
            "Epoch 43/100\n",
            "1800/1800 [==============================] - 48s 27ms/step - loss: 0.6931 - acc: 0.5001 - val_loss: 0.6933 - val_acc: 0.4979\n",
            "Epoch 44/100\n",
            "1800/1800 [==============================] - 49s 27ms/step - loss: 0.6931 - acc: 0.5011 - val_loss: 0.6932 - val_acc: 0.5005\n",
            "Epoch 45/100\n",
            "1800/1800 [==============================] - 48s 27ms/step - loss: 0.6931 - acc: 0.5019 - val_loss: 0.6933 - val_acc: 0.4998\n",
            "Epoch 46/100\n",
            "1800/1800 [==============================] - 48s 27ms/step - loss: 0.6931 - acc: 0.5001 - val_loss: 0.6932 - val_acc: 0.4991\n",
            "Epoch 47/100\n",
            "1800/1800 [==============================] - 49s 27ms/step - loss: 0.6931 - acc: 0.5002 - val_loss: 0.6932 - val_acc: 0.4954\n",
            "Epoch 48/100\n",
            "1800/1800 [==============================] - 49s 27ms/step - loss: 0.6931 - acc: 0.4993 - val_loss: 0.6932 - val_acc: 0.4987\n",
            "Epoch 49/100\n",
            "1800/1800 [==============================] - 49s 27ms/step - loss: 0.6931 - acc: 0.4983 - val_loss: 0.6932 - val_acc: 0.4988\n",
            "Epoch 50/100\n",
            "1800/1800 [==============================] - 49s 27ms/step - loss: 0.6931 - acc: 0.4987 - val_loss: 0.6931 - val_acc: 0.5011\n",
            "Epoch 51/100\n",
            "1800/1800 [==============================] - 49s 27ms/step - loss: 0.6931 - acc: 0.5014 - val_loss: 0.6932 - val_acc: 0.5015\n",
            "Epoch 52/100\n",
            "1800/1800 [==============================] - 50s 28ms/step - loss: 0.6931 - acc: 0.5014 - val_loss: 0.6932 - val_acc: 0.5012\n",
            "Epoch 53/100\n",
            "1800/1800 [==============================] - 49s 27ms/step - loss: 0.6931 - acc: 0.5001 - val_loss: 0.6932 - val_acc: 0.4999\n",
            "Epoch 54/100\n",
            "1800/1800 [==============================] - 49s 27ms/step - loss: 0.6931 - acc: 0.5011 - val_loss: 0.6932 - val_acc: 0.4999\n",
            "Epoch 55/100\n",
            "1800/1800 [==============================] - 49s 27ms/step - loss: 0.6931 - acc: 0.5004 - val_loss: 0.6931 - val_acc: 0.4990\n",
            "Epoch 56/100\n",
            "1800/1800 [==============================] - 49s 27ms/step - loss: 0.6931 - acc: 0.5013 - val_loss: 0.6931 - val_acc: 0.4999\n",
            "Epoch 57/100\n",
            "1800/1800 [==============================] - 49s 27ms/step - loss: 0.6931 - acc: 0.4997 - val_loss: 0.6931 - val_acc: 0.5004\n",
            "Epoch 58/100\n",
            "1800/1800 [==============================] - 49s 27ms/step - loss: 0.6931 - acc: 0.5006 - val_loss: 0.6932 - val_acc: 0.5012\n",
            "Epoch 59/100\n",
            "1800/1800 [==============================] - 49s 27ms/step - loss: 0.6931 - acc: 0.4997 - val_loss: 0.6932 - val_acc: 0.5018\n",
            "Epoch 60/100\n",
            "1800/1800 [==============================] - 49s 27ms/step - loss: 0.6931 - acc: 0.5003 - val_loss: 0.6932 - val_acc: 0.5002\n",
            "Epoch 61/100\n",
            "1800/1800 [==============================] - 49s 27ms/step - loss: 0.6931 - acc: 0.5004 - val_loss: 0.6932 - val_acc: 0.5010\n",
            "Epoch 62/100\n",
            "1800/1800 [==============================] - 50s 28ms/step - loss: 0.6931 - acc: 0.4992 - val_loss: 0.6932 - val_acc: 0.4989\n",
            "Epoch 63/100\n",
            "1800/1800 [==============================] - 50s 28ms/step - loss: 0.6931 - acc: 0.4987 - val_loss: 0.6932 - val_acc: 0.4995\n",
            "Epoch 64/100\n",
            "1800/1800 [==============================] - 50s 28ms/step - loss: 0.6931 - acc: 0.4994 - val_loss: 0.6932 - val_acc: 0.5002\n",
            "Epoch 65/100\n",
            " 582/1800 [========>.....................] - ETA: 24s - loss: 0.6932 - acc: 0.4996"
          ],
          "name": "stdout"
        }
      ]
    },
    {
      "cell_type": "code",
      "metadata": {
        "colab": {
          "base_uri": "https://localhost:8080/",
          "height": 585
        },
        "id": "7Xm0xF-vfw6c",
        "outputId": "54e44f37-f05b-4339-dea6-e1d096968b7d"
      },
      "source": [
        "sg.utils.plot_history(history)\n"
      ],
      "execution_count": null,
      "outputs": [
        {
          "output_type": "display_data",
          "data": {
            "image/png": "[encoded data removed]",
            "text/plain": [
              "<Figure size 504x576 with 2 Axes>"
            ]
          },
          "metadata": {
            "tags": [],
            "needs_background": "light"
          }
        }
      ]
    },
    {
      "cell_type": "markdown",
      "metadata": {
        "id": "ktg3yyvioYmx"
      },
      "source": [
        "Calculate the performance of the trained model on the test data."
      ]
    },
    {
      "cell_type": "code",
      "metadata": {
        "colab": {
          "base_uri": "https://localhost:8080/"
        },
        "id": "j2G0ewrTf600",
        "outputId": "abe15934-a18a-4a1f-de31-b9985352305c"
      },
      "source": [
        "test_metrics = model.evaluate(test_gen)\n",
        "print(\"\\nTest Set Metrics:\")\n",
        "for name, val in zip(model.metrics_names, test_metrics):\n",
        "    print(\"\\t{}: {:0.4f}\".format(name, val))"
      ],
      "execution_count": null,
      "outputs": [
        {
          "output_type": "stream",
          "text": [
            "10000/10000 [==============================] - 17s 2ms/step - loss: 0.6931 - acc: 0.4997\n",
            "\n",
            "Test Set Metrics:\n",
            "\tloss: 0.6931\n",
            "\tacc: 0.4997\n"
          ],
          "name": "stdout"
        }
      ]
    },
    {
      "cell_type": "markdown",
      "metadata": {
        "id": "YGKOLdO_pGpw"
      },
      "source": [
        "# Supervised graph classification with GCN\n",
        "\n",
        "---\n",
        "\n",
        "\n"
      ]
    },
    {
      "cell_type": "markdown",
      "metadata": {
        "id": "b4zGj0V6pGp6"
      },
      "source": [
        "This notebook demonstrates how to train a graph classification model in a supervised setting using graph convolutional layers followed by a mean pooling layer as well as any number of fully connected layers.\n",
        "\n",
        "The graph convolutional classification model architecture is based on the one proposed in [1] (see Figure 5 in [1]) using the graph convolutional layers from [2]. This demo differs from [1] in the dataset, MUTAG, used here; MUTAG is a collection of static graphs representing chemical compounds with each graph associated with a binary label. Furthermore, none of the graph convolutional layers in our model utilise an attention head as proposed in [1].\n",
        "\n",
        "Evaluation data for graph kernel-based approaches shown in the very last cell in this notebook are taken from [3].\n",
        "\n",
        "**References**\n",
        "\n",
        "[1] Fake News Detection on Social Media using Geometric Deep Learning, F. Monti, F. Frasca, D. Eynard, D. Mannion, and M. M. Bronstein, ICLR 2019. ([link](https://arxiv.org/abs/1902.06673))\n",
        "\n",
        "[2] Semi-supervised Classification with Graph Convolutional Networks, T. N. Kipf and M. Welling, ICLR 2017. ([link](https://arxiv.org/abs/1609.02907))\n",
        "\n",
        "[3] An End-to-End Deep Learning Architecture for Graph Classification, M. Zhang, Z. Cui, M. Neumann, Y. Chen, AAAI-18. ([link](https://www.aaai.org/ocs/index.php/AAAI/AAAI18/paper/viewPaper/17146))"
      ]
    },
    {
      "cell_type": "code",
      "metadata": {
        "nbsphinx": "hidden",
        "tags": [
          "CloudRunner"
        ],
        "id": "cFq3mURFpGp7",
        "colab": {
          "base_uri": "https://localhost:8080/"
        },
        "outputId": "e1e1acb0-4ef7-4fe8-93a4-75ef23f5321e"
      },
      "source": [
        "# install StellarGraph if running on Google Colab\n",
        "import sys\n",
        "if 'google.colab' in sys.modules:\n",
        "  %pip install -q stellargraph[demos]==1.2.1"
      ],
      "execution_count": 12,
      "outputs": [
        {
          "output_type": "stream",
          "text": [
            "\u001b[K     |████████████████████████████████| 235kB 8.1MB/s \n",
            "\u001b[K     |████████████████████████████████| 51kB 5.7MB/s \n",
            "\u001b[?25h  Building wheel for mplleaflet (setup.py) ... \u001b[?25l\u001b[?25hdone\n"
          ],
          "name": "stdout"
        }
      ]
    },
    {
      "cell_type": "code",
      "metadata": {
        "nbsphinx": "hidden",
        "tags": [
          "VersionCheck"
        ],
        "id": "4eylIrPapGp8"
      },
      "source": [
        "# verify that we're using the correct version of StellarGraph for this notebook\n",
        "import stellargraph as sg\n",
        "\n",
        "try:\n",
        "    sg.utils.validate_notebook_version(\"1.2.1\")\n",
        "except AttributeError:\n",
        "    raise ValueError(\n",
        "        f\"This notebook requires StellarGraph version 1.2.1, but a different version {sg.__version__} is installed.  Please see <https://github.com/stellargraph/stellargraph/issues/1172>.\"\n",
        "    ) from None"
      ],
      "execution_count": 13,
      "outputs": []
    },
    {
      "cell_type": "code",
      "metadata": {
        "id": "hMUUz1IZpGp9"
      },
      "source": [
        "import pandas as pd\n",
        "import numpy as np\n",
        "\n",
        "import stellargraph as sg\n",
        "from stellargraph.mapper import PaddedGraphGenerator\n",
        "from stellargraph.layer import GCNSupervisedGraphClassification\n",
        "from stellargraph import StellarGraph\n",
        "\n",
        "from stellargraph import datasets\n",
        "\n",
        "from sklearn import model_selection\n",
        "from IPython.display import display, HTML\n",
        "\n",
        "from tensorflow.keras import Model\n",
        "from tensorflow.keras.optimizers import Adam\n",
        "from tensorflow.keras.layers import Dense\n",
        "from tensorflow.keras.losses import binary_crossentropy\n",
        "from tensorflow.keras.callbacks import EarlyStopping\n",
        "import tensorflow as tf\n",
        "import matplotlib.pyplot as plt"
      ],
      "execution_count": 14,
      "outputs": []
    },
    {
      "cell_type": "markdown",
      "metadata": {
        "id": "EH-KkYDDpGqF"
      },
      "source": [
        "### Prepare graph generator\n",
        "\n",
        "To feed data to the `tf.Keras` model that we will create later, we need a data generator. For supervised graph classification, we create an instance of `StellarGraph`'s `PaddedGraphGenerator` class. Note that `graphs` is a list of `StellarGraph` graph objects."
      ]
    },
    {
      "cell_type": "code",
      "metadata": {
        "id": "B10Umz9JpGqF"
      },
      "source": [
        "generator = PaddedGraphGenerator(graphs=graphs)"
      ],
      "execution_count": 15,
      "outputs": []
    },
    {
      "cell_type": "markdown",
      "metadata": {
        "id": "WA17_f3xpGqG"
      },
      "source": [
        "### Create the Keras graph classification model\n",
        "\n",
        "We are now ready to create a `tf.Keras` graph classification model using `StellarGraph`'s `GraphClassification` class together with standard `tf.Keras` layers, e.g., `Dense`. \n",
        "\n",
        "The input is the graph represented by its adjacency and node features matrices. The first two layers are Graph Convolutional as in [2] with each layer having 64 units and `relu` activations. The next layer is a mean pooling layer where the learned node representation are summarized to create a graph representation. The graph representation is input to two fully connected layers with 32 and 16 units respectively and `relu` activations. The last layer is the output layer with a single unit and `sigmoid` activation."
      ]
    },
    {
      "cell_type": "markdown",
      "metadata": {
        "id": "P5EyfJ38pGqG"
      },
      "source": [
        "![](graph_classification_architecture.png)"
      ]
    },
    {
      "cell_type": "code",
      "metadata": {
        "id": "Z9w1IKhxpGqG"
      },
      "source": [
        "def create_graph_classification_model(generator):\n",
        "    gc_model = GCNSupervisedGraphClassification(\n",
        "        layer_sizes=[64, 64],\n",
        "        activations=[\"relu\", \"relu\"],\n",
        "        generator=generator,\n",
        "        dropout=0.5,\n",
        "    )\n",
        "    x_inp, x_out = gc_model.in_out_tensors()\n",
        "    predictions = Dense(units=32, activation=\"relu\")(x_out)\n",
        "    predictions = Dense(units=16, activation=\"relu\")(predictions)\n",
        "    predictions = Dense(units=1, activation=\"sigmoid\")(predictions)\n",
        "\n",
        "    # Let's create the Keras model and prepare it for training\n",
        "    model = Model(inputs=x_inp, outputs=predictions)\n",
        "    model.compile(optimizer=Adam(0.005), loss=binary_crossentropy, metrics=[\"acc\"])\n",
        "\n",
        "    return model"
      ],
      "execution_count": 16,
      "outputs": []
    },
    {
      "cell_type": "markdown",
      "metadata": {
        "id": "fIAk7p0IpGqH"
      },
      "source": [
        "### Train the model\n",
        "\n",
        "We can now train the model using the model's `fit` method. First, we specify some important training parameters such as the number of training epochs, number of fold for cross validation and the number of time to repeat cross validation."
      ]
    },
    {
      "cell_type": "code",
      "metadata": {
        "tags": [
          "parameters"
        ],
        "id": "IcvDULhZpGqI"
      },
      "source": [
        "epochs = 33  # maximum number of training epochs\n",
        "folds = 5  # the number of folds for k-fold cross validation\n",
        "n_repeats = 3  # the number of repeats for repeated k-fold cross validation"
      ],
      "execution_count": 17,
      "outputs": []
    },
    {
      "cell_type": "code",
      "metadata": {
        "id": "F9eAe0m4pGqI"
      },
      "source": [
        "es = EarlyStopping(\n",
        "    monitor=\"val_loss\", min_delta=0, patience=25, restore_best_weights=True\n",
        ")"
      ],
      "execution_count": 18,
      "outputs": []
    },
    {
      "cell_type": "markdown",
      "metadata": {
        "id": "HJsuZXlxpGqJ"
      },
      "source": [
        "The method `train_fold` is used to train a graph classification model for a single fold of the data."
      ]
    },
    {
      "cell_type": "code",
      "metadata": {
        "id": "FDVVn-7FpGqJ"
      },
      "source": [
        "def train_fold(model, train_gen, test_gen, es, epochs):\n",
        "    history = model.fit(\n",
        "        train_gen, epochs=epochs, validation_data=test_gen, verbose=2, callbacks=[es],\n",
        "    )\n",
        "    # calculate performance on the test data and return along with history\n",
        "    test_metrics = model.evaluate(test_gen, verbose=2)\n",
        "    test_acc = test_metrics[model.metrics_names.index(\"acc\")]\n",
        "\n",
        "    return history, test_acc"
      ],
      "execution_count": 19,
      "outputs": []
    },
    {
      "cell_type": "code",
      "metadata": {
        "id": "_Z45aezhpGqJ"
      },
      "source": [
        "def get_generators(train_index, test_index, graph_labels, batch_size):\n",
        "    train_gen = generator.flow(\n",
        "        train_index, targets=graph_labels.iloc[train_index].values, batch_size=batch_size\n",
        "    )\n",
        "    test_gen = generator.flow(\n",
        "        test_index, targets=graph_labels.iloc[test_index].values, batch_size=batch_size\n",
        "    )\n",
        "\n",
        "    return train_gen, test_gen"
      ],
      "execution_count": 20,
      "outputs": []
    },
    {
      "cell_type": "markdown",
      "metadata": {
        "id": "6LtYi_oGpGqK"
      },
      "source": [
        "The code below puts all the above functionality together in a training loop for repeated k-fold cross-validation where the number of folds is 10, `folds=10`; that is we do 10-fold cross validation `n_repeats` times where `n_repeats=5`.\n",
        "\n",
        "**Note**: The below code may take a long time to run depending on the value set for `n_repeats`. The larger the latter, the longer it takes since for each repeat we train and evaluate 10 graph classification models, one for each fold of the data. For progress updates, we recommend that you set `verbose=2` in the call to the `fit` method is cell 10, line 3."
      ]
    },
    {
      "cell_type": "code",
      "metadata": {
        "id": "RPp1b9u0pGqK",
        "colab": {
          "base_uri": "https://localhost:8080/"
        },
        "outputId": "7b298451-ed2b-4288-ba81-992e76b376e7"
      },
      "source": [
        "test_accs = []\n",
        "\n",
        "stratified_folds = model_selection.RepeatedStratifiedKFold(\n",
        "    n_splits=folds, n_repeats=n_repeats\n",
        ").split(graph_labels, graph_labels)\n",
        "\n",
        "for i, (train_index, test_index) in enumerate(stratified_folds):\n",
        "    print(f\"Training and evaluating on fold {i+1} out of {folds * n_repeats}...\")\n",
        "    train_gen, test_gen = get_generators(\n",
        "        train_index, test_index, graph_labels, batch_size=30\n",
        "    )\n",
        "\n",
        "    model = create_graph_classification_model(generator)\n",
        "\n",
        "    history, acc = train_fold(model, train_gen, test_gen, es, epochs)\n",
        "\n",
        "    test_accs.append(acc)"
      ],
      "execution_count": null,
      "outputs": [
        {
          "output_type": "stream",
          "text": [
            "Training and evaluating on fold 1 out of 15...\n",
            "Epoch 1/33\n",
            "2667/2667 - 20s - loss: 0.6971 - acc: 0.5012 - val_loss: 0.6932 - val_acc: 0.5000\n",
            "Epoch 2/33\n",
            "2667/2667 - 17s - loss: 0.6933 - acc: 0.4998 - val_loss: 0.6937 - val_acc: 0.5000\n",
            "Epoch 3/33\n",
            "2667/2667 - 17s - loss: 0.6933 - acc: 0.4973 - val_loss: 0.6932 - val_acc: 0.5000\n",
            "Epoch 4/33\n",
            "2667/2667 - 17s - loss: 0.6933 - acc: 0.5009 - val_loss: 0.6936 - val_acc: 0.5000\n",
            "Epoch 5/33\n",
            "2667/2667 - 17s - loss: 0.6937 - acc: 0.4992 - val_loss: 0.6932 - val_acc: 0.5000\n",
            "Epoch 6/33\n",
            "2667/2667 - 17s - loss: 0.6933 - acc: 0.4996 - val_loss: 0.6933 - val_acc: 0.5000\n",
            "Epoch 7/33\n",
            "2667/2667 - 17s - loss: 0.6933 - acc: 0.5013 - val_loss: 0.6932 - val_acc: 0.5000\n",
            "Epoch 8/33\n",
            "2667/2667 - 17s - loss: 0.6932 - acc: 0.4994 - val_loss: 0.6933 - val_acc: 0.5000\n",
            "Epoch 9/33\n",
            "2667/2667 - 17s - loss: 0.6933 - acc: 0.4985 - val_loss: 0.6932 - val_acc: 0.5000\n",
            "Epoch 10/33\n",
            "2667/2667 - 17s - loss: 0.6933 - acc: 0.4989 - val_loss: 0.6933 - val_acc: 0.5000\n",
            "Epoch 11/33\n",
            "2667/2667 - 17s - loss: 0.6933 - acc: 0.4994 - val_loss: 0.6932 - val_acc: 0.5000\n",
            "Epoch 12/33\n",
            "2667/2667 - 17s - loss: 0.6933 - acc: 0.4999 - val_loss: 0.6932 - val_acc: 0.5000\n",
            "Epoch 13/33\n",
            "2667/2667 - 17s - loss: 0.6933 - acc: 0.4989 - val_loss: 0.6932 - val_acc: 0.5000\n",
            "Epoch 14/33\n",
            "2667/2667 - 17s - loss: 0.6933 - acc: 0.4974 - val_loss: 0.6932 - val_acc: 0.5000\n",
            "Epoch 15/33\n",
            "2667/2667 - 17s - loss: 0.6933 - acc: 0.4973 - val_loss: 0.6932 - val_acc: 0.5000\n",
            "Epoch 16/33\n",
            "2667/2667 - 17s - loss: 0.6933 - acc: 0.4997 - val_loss: 0.6934 - val_acc: 0.5000\n",
            "Epoch 17/33\n",
            "2667/2667 - 17s - loss: 0.6933 - acc: 0.4970 - val_loss: 0.6932 - val_acc: 0.5000\n",
            "Epoch 18/33\n",
            "2667/2667 - 17s - loss: 0.6933 - acc: 0.4987 - val_loss: 0.6932 - val_acc: 0.5000\n",
            "Epoch 19/33\n",
            "2667/2667 - 17s - loss: 0.6933 - acc: 0.4990 - val_loss: 0.6931 - val_acc: 0.5000\n",
            "Epoch 20/33\n",
            "2667/2667 - 17s - loss: 0.6933 - acc: 0.4962 - val_loss: 0.6932 - val_acc: 0.5000\n",
            "Epoch 21/33\n",
            "2667/2667 - 17s - loss: 0.6933 - acc: 0.4970 - val_loss: 0.6932 - val_acc: 0.5000\n",
            "Epoch 22/33\n",
            "2667/2667 - 17s - loss: 0.6933 - acc: 0.4979 - val_loss: 0.6932 - val_acc: 0.5000\n",
            "Epoch 23/33\n",
            "2667/2667 - 17s - loss: 0.6933 - acc: 0.4989 - val_loss: 0.6932 - val_acc: 0.5000\n",
            "Epoch 24/33\n",
            "2667/2667 - 16s - loss: 0.6933 - acc: 0.4985 - val_loss: 0.6931 - val_acc: 0.5000\n",
            "Epoch 25/33\n",
            "2667/2667 - 16s - loss: 0.6932 - acc: 0.5030 - val_loss: 0.6932 - val_acc: 0.5000\n",
            "Epoch 26/33\n",
            "2667/2667 - 16s - loss: 0.6933 - acc: 0.4985 - val_loss: 0.6932 - val_acc: 0.5000\n",
            "Epoch 27/33\n",
            "2667/2667 - 17s - loss: 0.6933 - acc: 0.5009 - val_loss: 0.6932 - val_acc: 0.5000\n",
            "Epoch 28/33\n",
            "2667/2667 - 17s - loss: 0.6932 - acc: 0.5015 - val_loss: 0.6932 - val_acc: 0.5000\n",
            "Epoch 29/33\n",
            "2667/2667 - 17s - loss: 0.6932 - acc: 0.5010 - val_loss: 0.6936 - val_acc: 0.5000\n",
            "Epoch 30/33\n",
            "2667/2667 - 17s - loss: 0.6933 - acc: 0.4965 - val_loss: 0.6932 - val_acc: 0.5000\n",
            "Epoch 31/33\n",
            "2667/2667 - 17s - loss: 0.6932 - acc: 0.5017 - val_loss: 0.6933 - val_acc: 0.5000\n",
            "Epoch 32/33\n",
            "2667/2667 - 17s - loss: 0.6933 - acc: 0.5027 - val_loss: 0.6933 - val_acc: 0.5000\n",
            "Epoch 33/33\n",
            "2667/2667 - 17s - loss: 0.6932 - acc: 0.5004 - val_loss: 0.6932 - val_acc: 0.5000\n",
            "667/667 - 3s - loss: 0.6932 - acc: 0.5000\n",
            "Training and evaluating on fold 2 out of 15...\n",
            "Epoch 1/33\n",
            "2667/2667 - 17s - loss: 0.7077 - acc: 0.4996 - val_loss: 0.6932 - val_acc: 0.5000\n",
            "Epoch 2/33\n",
            "2667/2667 - 17s - loss: 0.6935 - acc: 0.5027 - val_loss: 0.6936 - val_acc: 0.5000\n",
            "Epoch 3/33\n",
            "2667/2667 - 17s - loss: 0.6943 - acc: 0.5015 - val_loss: 0.6933 - val_acc: 0.5000\n",
            "Epoch 4/33\n",
            "2667/2667 - 17s - loss: 0.6933 - acc: 0.4997 - val_loss: 0.6932 - val_acc: 0.5000\n",
            "Epoch 5/33\n",
            "2667/2667 - 17s - loss: 0.6933 - acc: 0.5008 - val_loss: 0.6932 - val_acc: 0.5000\n",
            "Epoch 6/33\n",
            "2667/2667 - 17s - loss: 0.6933 - acc: 0.5001 - val_loss: 0.6932 - val_acc: 0.5000\n",
            "Epoch 7/33\n",
            "2667/2667 - 17s - loss: 0.6932 - acc: 0.5008 - val_loss: 0.6931 - val_acc: 0.5000\n",
            "Epoch 8/33\n",
            "2667/2667 - 17s - loss: 0.6933 - acc: 0.4981 - val_loss: 0.6932 - val_acc: 0.5000\n",
            "Epoch 9/33\n",
            "2667/2667 - 18s - loss: 0.6933 - acc: 0.4994 - val_loss: 0.6936 - val_acc: 0.5000\n",
            "Epoch 10/33\n",
            "2667/2667 - 17s - loss: 0.6933 - acc: 0.4992 - val_loss: 0.6934 - val_acc: 0.5000\n",
            "Epoch 11/33\n",
            "2667/2667 - 17s - loss: 0.6932 - acc: 0.5015 - val_loss: 0.6934 - val_acc: 0.5000\n",
            "Epoch 12/33\n",
            "2667/2667 - 17s - loss: 0.6932 - acc: 0.5009 - val_loss: 0.6937 - val_acc: 0.5000\n",
            "Epoch 13/33\n",
            "2667/2667 - 17s - loss: 0.6933 - acc: 0.5001 - val_loss: 0.6931 - val_acc: 0.5000\n",
            "Epoch 14/33\n",
            "2667/2667 - 16s - loss: 0.6932 - acc: 0.4992 - val_loss: 0.6932 - val_acc: 0.5000\n",
            "Epoch 15/33\n",
            "2667/2667 - 17s - loss: 0.6933 - acc: 0.5006 - val_loss: 0.6932 - val_acc: 0.5000\n",
            "Epoch 16/33\n",
            "2667/2667 - 17s - loss: 0.6933 - acc: 0.5001 - val_loss: 0.6935 - val_acc: 0.5000\n",
            "Epoch 17/33\n",
            "2667/2667 - 17s - loss: 0.6932 - acc: 0.5028 - val_loss: 0.6934 - val_acc: 0.5000\n",
            "Epoch 18/33\n",
            "2667/2667 - 17s - loss: 0.6932 - acc: 0.5001 - val_loss: 0.6932 - val_acc: 0.5000\n",
            "Epoch 19/33\n",
            "2667/2667 - 17s - loss: 0.6933 - acc: 0.5002 - val_loss: 0.6932 - val_acc: 0.5000\n",
            "Epoch 20/33\n",
            "2667/2667 - 17s - loss: 0.6933 - acc: 0.5003 - val_loss: 0.6933 - val_acc: 0.5000\n",
            "Epoch 21/33\n",
            "2667/2667 - 17s - loss: 0.6933 - acc: 0.5011 - val_loss: 0.6932 - val_acc: 0.5000\n",
            "Epoch 22/33\n",
            "2667/2667 - 17s - loss: 0.6933 - acc: 0.4999 - val_loss: 0.6932 - val_acc: 0.5000\n",
            "Epoch 23/33\n",
            "2667/2667 - 18s - loss: 0.6933 - acc: 0.5013 - val_loss: 0.6931 - val_acc: 0.5000\n",
            "Epoch 24/33\n",
            "2667/2667 - 17s - loss: 0.6933 - acc: 0.4990 - val_loss: 0.6931 - val_acc: 0.5000\n",
            "Epoch 25/33\n",
            "2667/2667 - 17s - loss: 0.6933 - acc: 0.4989 - val_loss: 0.6932 - val_acc: 0.5000\n",
            "Epoch 26/33\n",
            "2667/2667 - 17s - loss: 0.6933 - acc: 0.4993 - val_loss: 0.6932 - val_acc: 0.5000\n",
            "Epoch 27/33\n",
            "2667/2667 - 17s - loss: 0.6933 - acc: 0.4980 - val_loss: 0.6932 - val_acc: 0.5000\n",
            "Epoch 28/33\n",
            "2667/2667 - 17s - loss: 0.6933 - acc: 0.5006 - val_loss: 0.6931 - val_acc: 0.5000\n",
            "Epoch 29/33\n",
            "2667/2667 - 17s - loss: 0.6933 - acc: 0.4977 - val_loss: 0.6932 - val_acc: 0.5000\n",
            "Epoch 30/33\n",
            "2667/2667 - 17s - loss: 0.6932 - acc: 0.5015 - val_loss: 0.6932 - val_acc: 0.5000\n",
            "Epoch 31/33\n",
            "2667/2667 - 16s - loss: 0.6932 - acc: 0.5010 - val_loss: 0.6935 - val_acc: 0.5000\n",
            "Epoch 32/33\n",
            "2667/2667 - 16s - loss: 0.6932 - acc: 0.5008 - val_loss: 0.6934 - val_acc: 0.5000\n",
            "Epoch 33/33\n",
            "2667/2667 - 16s - loss: 0.6933 - acc: 0.4999 - val_loss: 0.6932 - val_acc: 0.5000\n",
            "667/667 - 3s - loss: 0.6932 - acc: 0.5000\n",
            "Training and evaluating on fold 3 out of 15...\n"
          ],
          "name": "stdout"
        }
      ]
    },
    {
      "cell_type": "code",
      "metadata": {
        "id": "i9hzmW1QpGqL",
        "outputId": "773328cf-2182-410f-d8a4-4a91a3cd14bd"
      },
      "source": [
        "print(\n",
        "    f\"Accuracy over all folds mean: {np.mean(test_accs)*100:.3}% and std: {np.std(test_accs)*100:.2}%\"\n",
        ")"
      ],
      "execution_count": null,
      "outputs": [
        {
          "output_type": "stream",
          "text": [
            "Accuracy over all folds mean: 76.4% and std: 6.7%\n"
          ],
          "name": "stdout"
        }
      ]
    },
    {
      "cell_type": "markdown",
      "metadata": {
        "id": "R40KkCyXpGqL"
      },
      "source": [
        "Finally, we plot a histogram of the accuracy of all `n_repeats x folds` models trained (50 in total)."
      ]
    },
    {
      "cell_type": "code",
      "metadata": {
        "id": "125_9w0vpGqL",
        "outputId": "91f26831-1656-458b-dd91-1eae04abb117"
      },
      "source": [
        "plt.figure(figsize=(8, 6))\n",
        "plt.hist(test_accs)\n",
        "plt.xlabel(\"Accuracy\")\n",
        "plt.ylabel(\"Count\")"
      ],
      "execution_count": null,
      "outputs": [
        {
          "output_type": "execute_result",
          "data": {
            "text/plain": [
              "Text(0, 0.5, 'Count')"
            ]
          },
          "metadata": {
            "tags": []
          },
          "execution_count": 14
        },
        {
          "output_type": "display_data",
          "data": {
            "image/png": "[encoded data removed]",
            "text/plain": [
              "<Figure size 576x432 with 1 Axes>"
            ]
          },
          "metadata": {
            "tags": [],
            "needs_background": "light"
          }
        }
      ]
    }
  ]
}