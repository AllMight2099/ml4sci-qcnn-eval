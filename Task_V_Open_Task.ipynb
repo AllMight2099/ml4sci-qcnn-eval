{
  "nbformat": 4,
  "nbformat_minor": 0,
  "metadata": {
    "colab": {
      "name": "Task V Open Task.ipynb",
      "provenance": [],
      "authorship_tag": "ABX9TyPUMo3v1l84xCS85qyQv13B",
      "include_colab_link": true
    },
    "kernelspec": {
      "name": "python3",
      "display_name": "Python 3"
    },
    "language_info": {
      "name": "python"
    }
  },
  "cells": [
    {
      "cell_type": "markdown",
      "metadata": {
        "id": "view-in-github",
        "colab_type": "text"
      },
      "source": [
        "<a href=\"https://colab.research.google.com/github/AllMight2099/ml4sci-qcnn-eval/blob/master/Task_V_Open_Task.ipynb\" target=\"_parent\"><img src=\"https://colab.research.google.com/assets/colab-badge.svg\" alt=\"Open In Colab\"/></a>"
      ]
    },
    {
      "cell_type": "code",
      "metadata": {
        "id": "AvdCTb2uxg2a"
      },
      "source": [
        ""
      ],
      "execution_count": null,
      "outputs": []
    },
    {
      "cell_type": "markdown",
      "metadata": {
        "id": "8HrCbyLA4rT_"
      },
      "source": [
        "#**Task 5: Open Task Part**\n",
        "\n",
        "I think it's safe to say that for many people, including me, **Shor's Algorithm** was *the thing* that got people hooked onto quantum computing. \n",
        "We know that Shor's Algorithm would be used to a given number. While reading about Shor's Algorithm, I could see how anyone could use a quantum computer to get the factors of a given number 'N' by generating multiple guesses at the same time and then using a Quantum version of Fourier Transform to obtain a superposition of all possible states that we pass in and then using interference to effectively cancel out the unwanted states and get our desired answer! Given how complex yet elegant the whole process was, it made me dive deeper into the field and I have been reading up on the various aspects of Quantum Computing and another field that really did interest me was **Quantum Error Correction**. \n",
        "\n",
        "We've made a lot of progress over the last few years, from just initializing a single qubit to having Quantum Computers right now that have 65 qubits. Given that qubits are very susceptible to external factors i.e noise, methods to reduce and mitigate the noise are the need of the hour at this point as this noise would lead to qubits giving us wrong measurements\n",
        "\n",
        "\n",
        "And with fields like **Quantum Machine Learning** coming up, the idea of using QML to to train a machine learning model quickly and inversly using machine learning models to help us figure out quantum error correction codes, is a really interesting phenomena. And is one that I would love to work on in the coming future."
      ]
    },
    {
      "cell_type": "code",
      "metadata": {
        "id": "XsDkUY0lcy7g"
      },
      "source": [
        ""
      ],
      "execution_count": null,
      "outputs": []
    }
  ]
}