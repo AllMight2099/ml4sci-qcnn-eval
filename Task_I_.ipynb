{
  "nbformat": 4,
  "nbformat_minor": 5,
  "metadata": {
    "kernelspec": {
      "display_name": "Python 3",
      "language": "python",
      "name": "python3"
    },
    "language_info": {
      "codemirror_mode": {
        "name": "ipython",
        "version": 3
      },
      "file_extension": ".py",
      "mimetype": "text/x-python",
      "name": "python",
      "nbconvert_exporter": "python",
      "pygments_lexer": "ipython3",
      "version": "3.8.5"
    },
    "colab": {
      "name": "Task I .ipynb",
      "provenance": [],
      "collapsed_sections": [],
      "include_colab_link": true
    }
  },
  "cells": [
    {
      "cell_type": "markdown",
      "metadata": {
        "id": "view-in-github",
        "colab_type": "text"
      },
      "source": [
        "<a href=\"https://colab.research.google.com/github/AllMight2099/ml4sci-qcnn-eval/blob/master/Task_I_.ipynb\" target=\"_parent\"><img src=\"https://colab.research.google.com/assets/colab-badge.svg\" alt=\"Open In Colab\"/></a>"
      ]
    },
    {
      "cell_type": "code",
      "metadata": {
        "colab": {
          "base_uri": "https://localhost:8080/"
        },
        "id": "outdoor-brooks",
        "outputId": "9651b55d-48c9-470e-c387-4f080a2f60e1"
      },
      "source": [
        "!pip install cirq\n",
        "!pip install qsimcirq\n",
        "\n"
      ],
      "id": "outdoor-brooks",
      "execution_count": null,
      "outputs": [
        {
          "output_type": "stream",
          "text": [
            "Requirement already satisfied: cirq in /usr/local/lib/python3.7/dist-packages (0.10.0)\n",
            "Requirement already satisfied: tqdm in /usr/local/lib/python3.7/dist-packages (from cirq) (4.41.1)\n",
            "Requirement already satisfied: matplotlib~=3.0 in /usr/local/lib/python3.7/dist-packages (from cirq) (3.2.2)\n",
            "Requirement already satisfied: networkx~=2.4 in /usr/local/lib/python3.7/dist-packages (from cirq) (2.5)\n",
            "Requirement already satisfied: scipy in /usr/local/lib/python3.7/dist-packages (from cirq) (1.4.1)\n",
            "Requirement already satisfied: protobuf~=3.13.0 in /usr/local/lib/python3.7/dist-packages (from cirq) (3.13.0)\n",
            "Requirement already satisfied: google-api-core[grpc]<2.0.0dev,>=1.14.0 in /usr/local/lib/python3.7/dist-packages (from cirq) (1.26.2)\n",
            "Requirement already satisfied: numpy~=1.16 in /usr/local/lib/python3.7/dist-packages (from cirq) (1.19.5)\n",
            "Requirement already satisfied: sympy in /usr/local/lib/python3.7/dist-packages (from cirq) (1.7.1)\n",
            "Requirement already satisfied: typing-extensions in /usr/local/lib/python3.7/dist-packages (from cirq) (3.7.4.3)\n",
            "Requirement already satisfied: sortedcontainers~=2.0 in /usr/local/lib/python3.7/dist-packages (from cirq) (2.3.0)\n",
            "Requirement already satisfied: requests~=2.18 in /usr/local/lib/python3.7/dist-packages (from cirq) (2.23.0)\n",
            "Requirement already satisfied: pandas in /usr/local/lib/python3.7/dist-packages (from cirq) (1.1.5)\n",
            "Requirement already satisfied: python-dateutil>=2.1 in /usr/local/lib/python3.7/dist-packages (from matplotlib~=3.0->cirq) (2.8.1)\n",
            "Requirement already satisfied: kiwisolver>=1.0.1 in /usr/local/lib/python3.7/dist-packages (from matplotlib~=3.0->cirq) (1.3.1)\n",
            "Requirement already satisfied: pyparsing!=2.0.4,!=2.1.2,!=2.1.6,>=2.0.1 in /usr/local/lib/python3.7/dist-packages (from matplotlib~=3.0->cirq) (2.4.7)\n",
            "Requirement already satisfied: cycler>=0.10 in /usr/local/lib/python3.7/dist-packages (from matplotlib~=3.0->cirq) (0.10.0)\n",
            "Requirement already satisfied: decorator>=4.3.0 in /usr/local/lib/python3.7/dist-packages (from networkx~=2.4->cirq) (4.4.2)\n",
            "Requirement already satisfied: setuptools in /usr/local/lib/python3.7/dist-packages (from protobuf~=3.13.0->cirq) (54.2.0)\n",
            "Requirement already satisfied: six>=1.9 in /usr/local/lib/python3.7/dist-packages (from protobuf~=3.13.0->cirq) (1.15.0)\n",
            "Requirement already satisfied: google-auth<2.0dev,>=1.21.1 in /usr/local/lib/python3.7/dist-packages (from google-api-core[grpc]<2.0.0dev,>=1.14.0->cirq) (1.28.0)\n",
            "Requirement already satisfied: packaging>=14.3 in /usr/local/lib/python3.7/dist-packages (from google-api-core[grpc]<2.0.0dev,>=1.14.0->cirq) (20.9)\n",
            "Requirement already satisfied: googleapis-common-protos<2.0dev,>=1.6.0 in /usr/local/lib/python3.7/dist-packages (from google-api-core[grpc]<2.0.0dev,>=1.14.0->cirq) (1.53.0)\n",
            "Requirement already satisfied: pytz in /usr/local/lib/python3.7/dist-packages (from google-api-core[grpc]<2.0.0dev,>=1.14.0->cirq) (2018.9)\n",
            "Requirement already satisfied: grpcio<2.0dev,>=1.29.0; extra == \"grpc\" in /usr/local/lib/python3.7/dist-packages (from google-api-core[grpc]<2.0.0dev,>=1.14.0->cirq) (1.32.0)\n",
            "Requirement already satisfied: mpmath>=0.19 in /usr/local/lib/python3.7/dist-packages (from sympy->cirq) (1.2.1)\n",
            "Requirement already satisfied: chardet<4,>=3.0.2 in /usr/local/lib/python3.7/dist-packages (from requests~=2.18->cirq) (3.0.4)\n",
            "Requirement already satisfied: certifi>=2017.4.17 in /usr/local/lib/python3.7/dist-packages (from requests~=2.18->cirq) (2020.12.5)\n",
            "Requirement already satisfied: urllib3!=1.25.0,!=1.25.1,<1.26,>=1.21.1 in /usr/local/lib/python3.7/dist-packages (from requests~=2.18->cirq) (1.24.3)\n",
            "Requirement already satisfied: idna<3,>=2.5 in /usr/local/lib/python3.7/dist-packages (from requests~=2.18->cirq) (2.10)\n",
            "Requirement already satisfied: cachetools<5.0,>=2.0.0 in /usr/local/lib/python3.7/dist-packages (from google-auth<2.0dev,>=1.21.1->google-api-core[grpc]<2.0.0dev,>=1.14.0->cirq) (4.2.1)\n",
            "Requirement already satisfied: rsa<5,>=3.1.4; python_version >= \"3.6\" in /usr/local/lib/python3.7/dist-packages (from google-auth<2.0dev,>=1.21.1->google-api-core[grpc]<2.0.0dev,>=1.14.0->cirq) (4.7.2)\n",
            "Requirement already satisfied: pyasn1-modules>=0.2.1 in /usr/local/lib/python3.7/dist-packages (from google-auth<2.0dev,>=1.21.1->google-api-core[grpc]<2.0.0dev,>=1.14.0->cirq) (0.2.8)\n",
            "Requirement already satisfied: pyasn1>=0.1.3 in /usr/local/lib/python3.7/dist-packages (from rsa<5,>=3.1.4; python_version >= \"3.6\"->google-auth<2.0dev,>=1.21.1->google-api-core[grpc]<2.0.0dev,>=1.14.0->cirq) (0.4.8)\n",
            "Collecting qsimcirq\n",
            "\u001b[?25l  Downloading https://files.pythonhosted.org/packages/3a/30/e52c3540e33d70859611aeb9c5e66f7a312758203ffbc3367701f5ec3e4e/qsimcirq-0.9.0.tar.gz (103kB)\n",
            "\u001b[K     |████████████████████████████████| 112kB 5.3MB/s \n",
            "\u001b[?25hRequirement already satisfied: cirq in /usr/local/lib/python3.7/dist-packages (from qsimcirq) (0.10.0)\n",
            "Requirement already satisfied: numpy~=1.16 in /usr/local/lib/python3.7/dist-packages (from qsimcirq) (1.19.5)\n",
            "Requirement already satisfied: typing_extensions in /usr/local/lib/python3.7/dist-packages (from qsimcirq) (3.7.4.3)\n",
            "Requirement already satisfied: absl-py in /usr/local/lib/python3.7/dist-packages (from qsimcirq) (0.12.0)\n",
            "Collecting pybind11\n",
            "\u001b[?25l  Downloading https://files.pythonhosted.org/packages/8d/43/7339dbabbc2793718d59703aace4166f53c29ee1c202f6ff5bf8a26c4d91/pybind11-2.6.2-py2.py3-none-any.whl (191kB)\n",
            "\u001b[K     |████████████████████████████████| 194kB 5.6MB/s \n",
            "\u001b[?25hRequirement already satisfied: pytest in /usr/local/lib/python3.7/dist-packages (from qsimcirq) (3.6.4)\n",
            "Requirement already satisfied: tqdm in /usr/local/lib/python3.7/dist-packages (from cirq->qsimcirq) (4.41.1)\n",
            "Requirement already satisfied: networkx~=2.4 in /usr/local/lib/python3.7/dist-packages (from cirq->qsimcirq) (2.5)\n",
            "Requirement already satisfied: pandas in /usr/local/lib/python3.7/dist-packages (from cirq->qsimcirq) (1.1.5)\n",
            "Requirement already satisfied: google-api-core[grpc]<2.0.0dev,>=1.14.0 in /usr/local/lib/python3.7/dist-packages (from cirq->qsimcirq) (1.26.2)\n",
            "Requirement already satisfied: scipy in /usr/local/lib/python3.7/dist-packages (from cirq->qsimcirq) (1.4.1)\n",
            "Requirement already satisfied: sympy in /usr/local/lib/python3.7/dist-packages (from cirq->qsimcirq) (1.7.1)\n",
            "Requirement already satisfied: requests~=2.18 in /usr/local/lib/python3.7/dist-packages (from cirq->qsimcirq) (2.23.0)\n",
            "Requirement already satisfied: matplotlib~=3.0 in /usr/local/lib/python3.7/dist-packages (from cirq->qsimcirq) (3.2.2)\n",
            "Requirement already satisfied: protobuf~=3.13.0 in /usr/local/lib/python3.7/dist-packages (from cirq->qsimcirq) (3.13.0)\n",
            "Requirement already satisfied: sortedcontainers~=2.0 in /usr/local/lib/python3.7/dist-packages (from cirq->qsimcirq) (2.3.0)\n",
            "Requirement already satisfied: six in /usr/local/lib/python3.7/dist-packages (from absl-py->qsimcirq) (1.15.0)\n",
            "Requirement already satisfied: attrs>=17.4.0 in /usr/local/lib/python3.7/dist-packages (from pytest->qsimcirq) (20.3.0)\n",
            "Requirement already satisfied: py>=1.5.0 in /usr/local/lib/python3.7/dist-packages (from pytest->qsimcirq) (1.10.0)\n",
            "Requirement already satisfied: more-itertools>=4.0.0 in /usr/local/lib/python3.7/dist-packages (from pytest->qsimcirq) (8.7.0)\n",
            "Requirement already satisfied: atomicwrites>=1.0 in /usr/local/lib/python3.7/dist-packages (from pytest->qsimcirq) (1.4.0)\n",
            "Requirement already satisfied: pluggy<0.8,>=0.5 in /usr/local/lib/python3.7/dist-packages (from pytest->qsimcirq) (0.7.1)\n",
            "Requirement already satisfied: setuptools in /usr/local/lib/python3.7/dist-packages (from pytest->qsimcirq) (54.2.0)\n",
            "Requirement already satisfied: decorator>=4.3.0 in /usr/local/lib/python3.7/dist-packages (from networkx~=2.4->cirq->qsimcirq) (4.4.2)\n",
            "Requirement already satisfied: pytz>=2017.2 in /usr/local/lib/python3.7/dist-packages (from pandas->cirq->qsimcirq) (2018.9)\n",
            "Requirement already satisfied: python-dateutil>=2.7.3 in /usr/local/lib/python3.7/dist-packages (from pandas->cirq->qsimcirq) (2.8.1)\n",
            "Requirement already satisfied: google-auth<2.0dev,>=1.21.1 in /usr/local/lib/python3.7/dist-packages (from google-api-core[grpc]<2.0.0dev,>=1.14.0->cirq->qsimcirq) (1.28.0)\n",
            "Requirement already satisfied: packaging>=14.3 in /usr/local/lib/python3.7/dist-packages (from google-api-core[grpc]<2.0.0dev,>=1.14.0->cirq->qsimcirq) (20.9)\n",
            "Requirement already satisfied: googleapis-common-protos<2.0dev,>=1.6.0 in /usr/local/lib/python3.7/dist-packages (from google-api-core[grpc]<2.0.0dev,>=1.14.0->cirq->qsimcirq) (1.53.0)\n",
            "Requirement already satisfied: grpcio<2.0dev,>=1.29.0; extra == \"grpc\" in /usr/local/lib/python3.7/dist-packages (from google-api-core[grpc]<2.0.0dev,>=1.14.0->cirq->qsimcirq) (1.32.0)\n",
            "Requirement already satisfied: mpmath>=0.19 in /usr/local/lib/python3.7/dist-packages (from sympy->cirq->qsimcirq) (1.2.1)\n",
            "Requirement already satisfied: chardet<4,>=3.0.2 in /usr/local/lib/python3.7/dist-packages (from requests~=2.18->cirq->qsimcirq) (3.0.4)\n",
            "Requirement already satisfied: idna<3,>=2.5 in /usr/local/lib/python3.7/dist-packages (from requests~=2.18->cirq->qsimcirq) (2.10)\n",
            "Requirement already satisfied: certifi>=2017.4.17 in /usr/local/lib/python3.7/dist-packages (from requests~=2.18->cirq->qsimcirq) (2020.12.5)\n",
            "Requirement already satisfied: urllib3!=1.25.0,!=1.25.1,<1.26,>=1.21.1 in /usr/local/lib/python3.7/dist-packages (from requests~=2.18->cirq->qsimcirq) (1.24.3)\n",
            "Requirement already satisfied: cycler>=0.10 in /usr/local/lib/python3.7/dist-packages (from matplotlib~=3.0->cirq->qsimcirq) (0.10.0)\n",
            "Requirement already satisfied: pyparsing!=2.0.4,!=2.1.2,!=2.1.6,>=2.0.1 in /usr/local/lib/python3.7/dist-packages (from matplotlib~=3.0->cirq->qsimcirq) (2.4.7)\n",
            "Requirement already satisfied: kiwisolver>=1.0.1 in /usr/local/lib/python3.7/dist-packages (from matplotlib~=3.0->cirq->qsimcirq) (1.3.1)\n",
            "Requirement already satisfied: pyasn1-modules>=0.2.1 in /usr/local/lib/python3.7/dist-packages (from google-auth<2.0dev,>=1.21.1->google-api-core[grpc]<2.0.0dev,>=1.14.0->cirq->qsimcirq) (0.2.8)\n",
            "Requirement already satisfied: rsa<5,>=3.1.4; python_version >= \"3.6\" in /usr/local/lib/python3.7/dist-packages (from google-auth<2.0dev,>=1.21.1->google-api-core[grpc]<2.0.0dev,>=1.14.0->cirq->qsimcirq) (4.7.2)\n",
            "Requirement already satisfied: cachetools<5.0,>=2.0.0 in /usr/local/lib/python3.7/dist-packages (from google-auth<2.0dev,>=1.21.1->google-api-core[grpc]<2.0.0dev,>=1.14.0->cirq->qsimcirq) (4.2.1)\n",
            "Requirement already satisfied: pyasn1<0.5.0,>=0.4.6 in /usr/local/lib/python3.7/dist-packages (from pyasn1-modules>=0.2.1->google-auth<2.0dev,>=1.21.1->google-api-core[grpc]<2.0.0dev,>=1.14.0->cirq->qsimcirq) (0.4.8)\n",
            "Building wheels for collected packages: qsimcirq\n",
            "  Building wheel for qsimcirq (setup.py) ... \u001b[?25l\u001b[?25hdone\n",
            "  Created wheel for qsimcirq: filename=qsimcirq-0.9.0-cp37-cp37m-linux_x86_64.whl size=341399 sha256=ca61bfc4872d39dc646007eb39e9b98c1736c95270770414947ce36417946d33\n",
            "  Stored in directory: /root/.cache/pip/wheels/75/be/f6/bb1f008e67cf1cba4c23cb529b25e25f1e3400bcb4ece30ea8\n",
            "Successfully built qsimcirq\n",
            "Installing collected packages: pybind11, qsimcirq\n",
            "Successfully installed pybind11-2.6.2 qsimcirq-0.9.0\n"
          ],
          "name": "stdout"
        }
      ]
    },
    {
      "cell_type": "code",
      "metadata": {
        "id": "lK0ZaQrkHOS8"
      },
      "source": [
        "import cirq\n",
        "import numpy as np\n",
        "import qsimcirq"
      ],
      "id": "lK0ZaQrkHOS8",
      "execution_count": null,
      "outputs": []
    },
    {
      "cell_type": "code",
      "metadata": {
        "colab": {
          "base_uri": "https://localhost:8080/"
        },
        "id": "mexican-panel",
        "outputId": "3a794fb9-700a-4907-e0bf-f99d9b310dd6"
      },
      "source": [
        "# Pick a qubit.\n",
        "qubit = cirq.LineQubit.range(5)\n",
        "\n",
        "# Create a circuit\n",
        "circuit = cirq.Circuit()\n",
        "for i in range(5):\n",
        "    circuit.append(cirq.H(qubit[i]))\n",
        "for i in range(5):    \n",
        "    if(i<4):\n",
        "        circuit.append(cirq.CNOT(qubit[i],qubit[i+1]))\n",
        "circuit.append(cirq.SWAP(qubit[0], qubit[4]))\n",
        "rot_x = cirq.rx(np.pi/2)\n",
        "print(rot_x)\n",
        "circuit.append(rot_x(qubit[0]))\n",
        "print(\"Circuit:\")\n",
        "print(circuit)\n",
        "\n",
        "# # Simulate the circuit several times.\n",
        "# simulator = cirq.Simulator()\n",
        "# result = simulator.run(circuit, repetitions=20)\n",
        "# print(\"Results:\")\n",
        "# print(result)"
      ],
      "id": "mexican-panel",
      "execution_count": null,
      "outputs": [
        {
          "output_type": "stream",
          "text": [
            "Rx(0.5π)\n",
            "Circuit:\n",
            "0: ───H───@───────────────×───Rx(0.5π)───\n",
            "          │               │\n",
            "1: ───H───X───@───────────┼──────────────\n",
            "              │           │\n",
            "2: ───H───────X───@───────┼──────────────\n",
            "                  │       │\n",
            "3: ───H───────────X───@───┼──────────────\n",
            "                      │   │\n",
            "4: ───H───────────────X───×──────────────\n"
          ],
          "name": "stdout"
        }
      ]
    },
    {
      "cell_type": "code",
      "metadata": {
        "id": "blank-hamilton"
      },
      "source": [
        "%matplotlib inline\n",
        "import numpy as np\n",
        "import matplotlib.pyplot as plt"
      ],
      "id": "blank-hamilton",
      "execution_count": null,
      "outputs": []
    },
    {
      "cell_type": "code",
      "metadata": {
        "scrolled": false,
        "colab": {
          "base_uri": "https://localhost:8080/"
        },
        "id": "viral-blake",
        "outputId": "b5982307-d869-4f4e-e7a7-f86f400113c0"
      },
      "source": [
        "cirq_results = {}\n",
        "prob = []\n",
        "n = int(input('Enter a value of n:'))\n",
        "for i in range(n):\n",
        "    circuit2 = cirq.Circuit()\n",
        "    qubit2 = cirq.LineQubit(0)\n",
        "    rot_x = cirq.rx(i*np.pi/n)\n",
        "    circuit2.append(rot_x(qubit2))\n",
        "    circuit2.append(cirq.measure(qubit2))\n",
        "    cirq_simulator = cirq.Simulator()\n",
        "    result = cirq_simulator.simulate(circuit2)\n",
        "    final_state_vector = result.final_state_vector\n",
        "    cirq_results[i] = np.abs(final_state_vector[0]**2)\n",
        "    prob.append(np.abs(final_state_vector[0]**2))\n",
        "    # cirq_results.append(np.abs(final_state_vector[0]**2))\n",
        "    print(f\"Probability of measuring |0> for angle, theta = {i}*pi/{n} is:\" + str(np.abs(final_state_vector[0]**2)), i, n)\n",
        "     \n",
        "print(prob)\n",
        "# print(\"Probabilities of observing each state:\", [abs(x)**2 for x in cirq_results])\n"
      ],
      "id": "viral-blake",
      "execution_count": null,
      "outputs": [
        {
          "output_type": "stream",
          "text": [
            "Enter a value of n:50\n",
            "Probability of measuring |0> for angle, theta = 0*pi/50 is:1.0 0 50\n",
            "Probability of measuring |0> for angle, theta = 1*pi/50 is:1.0 1 50\n",
            "Probability of measuring |0> for angle, theta = 2*pi/50 is:1.0 2 50\n",
            "Probability of measuring |0> for angle, theta = 3*pi/50 is:1.0 3 50\n",
            "Probability of measuring |0> for angle, theta = 4*pi/50 is:0.0 4 50\n",
            "Probability of measuring |0> for angle, theta = 5*pi/50 is:1.0 5 50\n",
            "Probability of measuring |0> for angle, theta = 6*pi/50 is:1.0 6 50\n",
            "Probability of measuring |0> for angle, theta = 7*pi/50 is:0.0 7 50\n",
            "Probability of measuring |0> for angle, theta = 8*pi/50 is:1.0 8 50\n",
            "Probability of measuring |0> for angle, theta = 9*pi/50 is:1.0 9 50\n",
            "Probability of measuring |0> for angle, theta = 10*pi/50 is:1.0 10 50\n",
            "Probability of measuring |0> for angle, theta = 11*pi/50 is:0.0 11 50\n",
            "Probability of measuring |0> for angle, theta = 12*pi/50 is:1.0 12 50\n",
            "Probability of measuring |0> for angle, theta = 13*pi/50 is:0.0 13 50\n",
            "Probability of measuring |0> for angle, theta = 14*pi/50 is:1.0 14 50\n",
            "Probability of measuring |0> for angle, theta = 15*pi/50 is:1.0 15 50\n",
            "Probability of measuring |0> for angle, theta = 16*pi/50 is:1.0 16 50\n",
            "Probability of measuring |0> for angle, theta = 17*pi/50 is:0.999999880790714 17 50\n",
            "Probability of measuring |0> for angle, theta = 18*pi/50 is:1.0 18 50\n",
            "Probability of measuring |0> for angle, theta = 19*pi/50 is:0.999999880790714 19 50\n",
            "Probability of measuring |0> for angle, theta = 20*pi/50 is:0.0 20 50\n",
            "Probability of measuring |0> for angle, theta = 21*pi/50 is:1.0 21 50\n",
            "Probability of measuring |0> for angle, theta = 22*pi/50 is:0.0 22 50\n",
            "Probability of measuring |0> for angle, theta = 23*pi/50 is:0.0 23 50\n",
            "Probability of measuring |0> for angle, theta = 24*pi/50 is:1.0 24 50\n",
            "Probability of measuring |0> for angle, theta = 25*pi/50 is:0.999999880790714 25 50\n",
            "Probability of measuring |0> for angle, theta = 26*pi/50 is:0.0 26 50\n",
            "Probability of measuring |0> for angle, theta = 27*pi/50 is:0.0 27 50\n",
            "Probability of measuring |0> for angle, theta = 28*pi/50 is:0.0 28 50\n",
            "Probability of measuring |0> for angle, theta = 29*pi/50 is:0.0 29 50\n",
            "Probability of measuring |0> for angle, theta = 30*pi/50 is:0.0 30 50\n",
            "Probability of measuring |0> for angle, theta = 31*pi/50 is:0.0 31 50\n",
            "Probability of measuring |0> for angle, theta = 32*pi/50 is:0.0 32 50\n",
            "Probability of measuring |0> for angle, theta = 33*pi/50 is:0.0 33 50\n",
            "Probability of measuring |0> for angle, theta = 34*pi/50 is:0.0 34 50\n",
            "Probability of measuring |0> for angle, theta = 35*pi/50 is:0.0 35 50\n",
            "Probability of measuring |0> for angle, theta = 36*pi/50 is:0.0 36 50\n",
            "Probability of measuring |0> for angle, theta = 37*pi/50 is:0.0 37 50\n",
            "Probability of measuring |0> for angle, theta = 38*pi/50 is:0.0 38 50\n",
            "Probability of measuring |0> for angle, theta = 39*pi/50 is:0.0 39 50\n",
            "Probability of measuring |0> for angle, theta = 40*pi/50 is:0.0 40 50\n",
            "Probability of measuring |0> for angle, theta = 41*pi/50 is:1.0 41 50\n",
            "Probability of measuring |0> for angle, theta = 42*pi/50 is:0.0 42 50\n",
            "Probability of measuring |0> for angle, theta = 43*pi/50 is:0.0 43 50\n",
            "Probability of measuring |0> for angle, theta = 44*pi/50 is:0.0 44 50\n",
            "Probability of measuring |0> for angle, theta = 45*pi/50 is:0.0 45 50\n",
            "Probability of measuring |0> for angle, theta = 46*pi/50 is:0.0 46 50\n",
            "Probability of measuring |0> for angle, theta = 47*pi/50 is:0.0 47 50\n",
            "Probability of measuring |0> for angle, theta = 48*pi/50 is:0.0 48 50\n",
            "Probability of measuring |0> for angle, theta = 49*pi/50 is:0.0 49 50\n",
            "[1.0, 1.0, 1.0, 1.0, 0.0, 1.0, 1.0, 0.0, 1.0, 1.0, 1.0, 0.0, 1.0, 0.0, 1.0, 1.0, 1.0, 0.999999880790714, 1.0, 0.999999880790714, 0.0, 1.0, 0.0, 0.0, 1.0, 0.999999880790714, 0.0, 0.0, 0.0, 0.0, 0.0, 0.0, 0.0, 0.0, 0.0, 0.0, 0.0, 0.0, 0.0, 0.0, 0.0, 1.0, 0.0, 0.0, 0.0, 0.0, 0.0, 0.0, 0.0, 0.0]\n"
          ],
          "name": "stdout"
        }
      ]
    },
    {
      "cell_type": "code",
      "metadata": {
        "id": "knowing-horizon"
      },
      "source": [
        ""
      ],
      "id": "knowing-horizon",
      "execution_count": null,
      "outputs": []
    },
    {
      "cell_type": "code",
      "metadata": {
        "id": "verbal-tampa"
      },
      "source": [
        ""
      ],
      "id": "verbal-tampa",
      "execution_count": null,
      "outputs": []
    },
    {
      "cell_type": "code",
      "metadata": {
        "id": "affected-narrow"
      },
      "source": [
        ""
      ],
      "id": "affected-narrow",
      "execution_count": null,
      "outputs": []
    }
  ]
}