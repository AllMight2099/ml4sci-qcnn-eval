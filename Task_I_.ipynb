{
  "nbformat": 4,
  "nbformat_minor": 5,
  "metadata": {
    "kernelspec": {
      "display_name": "Python 3",
      "language": "python",
      "name": "python3"
    },
    "language_info": {
      "codemirror_mode": {
        "name": "ipython",
        "version": 3
      },
      "file_extension": ".py",
      "mimetype": "text/x-python",
      "name": "python",
      "nbconvert_exporter": "python",
      "pygments_lexer": "ipython3",
      "version": "3.8.5"
    },
    "colab": {
      "name": "Task I .ipynb",
      "provenance": [],
      "collapsed_sections": [],
      "include_colab_link": true
    }
  },
  "cells": [
    {
      "cell_type": "markdown",
      "metadata": {
        "id": "view-in-github",
        "colab_type": "text"
      },
      "source": [
        "<a href=\"https://colab.research.google.com/github/AllMight2099/ml4sci-qcnn-eval/blob/master/Task_I_.ipynb\" target=\"_parent\"><img src=\"https://colab.research.google.com/assets/colab-badge.svg\" alt=\"Open In Colab\"/></a>"
      ]
    },
    {
      "cell_type": "code",
      "metadata": {
        "id": "outdoor-brooks"
      },
      "source": [
        "!pip install cirq --quiet\n",
        "!pip install qsimcirq --quiet\n",
        "\n"
      ],
      "id": "outdoor-brooks",
      "execution_count": 36,
      "outputs": []
    },
    {
      "cell_type": "code",
      "metadata": {
        "id": "lK0ZaQrkHOS8"
      },
      "source": [
        "import cirq\n",
        "import numpy as np\n",
        "import qsimcirq"
      ],
      "id": "lK0ZaQrkHOS8",
      "execution_count": 37,
      "outputs": []
    },
    {
      "cell_type": "code",
      "metadata": {
        "colab": {
          "base_uri": "https://localhost:8080/"
        },
        "id": "mexican-panel",
        "outputId": "f47c6e4d-dc34-4244-9e7b-c07cbd44b706"
      },
      "source": [
        "# Pick a qubit.\n",
        "qubit = cirq.LineQubit.range(5)\n",
        "\n",
        "# Create a circuit\n",
        "circuit = cirq.Circuit()\n",
        "for i in range(5):\n",
        "    circuit.append(cirq.H(qubit[i]))\n",
        "for i in range(5):    \n",
        "    if(i<4):\n",
        "        circuit.append(cirq.CNOT(qubit[i],qubit[i+1]))\n",
        "circuit.append(cirq.SWAP(qubit[0], qubit[4]))\n",
        "rot_x = cirq.rx(np.pi/2)\n",
        "print(rot_x)\n",
        "circuit.append(rot_x(qubit[0]))\n",
        "print(\"Circuit:\")\n",
        "print(circuit)\n",
        "\n",
        "# # Simulate the circuit several times.\n",
        "# simulator = cirq.Simulator()\n",
        "# result = simulator.run(circuit, repetitions=20)\n",
        "# print(\"Results:\")\n",
        "# print(result)"
      ],
      "id": "mexican-panel",
      "execution_count": 38,
      "outputs": [
        {
          "output_type": "stream",
          "text": [
            "Rx(0.5π)\n",
            "Circuit:\n",
            "0: ───H───@───────────────×───Rx(0.5π)───\n",
            "          │               │\n",
            "1: ───H───X───@───────────┼──────────────\n",
            "              │           │\n",
            "2: ───H───────X───@───────┼──────────────\n",
            "                  │       │\n",
            "3: ───H───────────X───@───┼──────────────\n",
            "                      │   │\n",
            "4: ───H───────────────X───×──────────────\n"
          ],
          "name": "stdout"
        }
      ]
    },
    {
      "cell_type": "code",
      "metadata": {
        "id": "blank-hamilton"
      },
      "source": [
        "%matplotlib inline\n",
        "import numpy as np\n",
        "import matplotlib.pyplot as plt"
      ],
      "id": "blank-hamilton",
      "execution_count": 39,
      "outputs": []
    },
    {
      "cell_type": "code",
      "metadata": {
        "scrolled": false,
        "colab": {
          "base_uri": "https://localhost:8080/"
        },
        "id": "viral-blake",
        "outputId": "02ebb812-f54e-4c4c-cfd9-a0ba79b6e367"
      },
      "source": [
        "cirq_results = {}\n",
        "prob = []\n",
        "n = int(input('Enter a value of n:'))\n",
        "for i in range(n):\n",
        "    circuit2 = cirq.Circuit()\n",
        "    qubit2 = cirq.LineQubit(0)\n",
        "    rot_x = cirq.rx(i*np.pi/n)\n",
        "    circuit2.append(rot_x(qubit2))\n",
        "    circuit2.append(cirq.measure(qubit2))\n",
        "    cirq_simulator = cirq.Simulator()\n",
        "    result = cirq_simulator.simulate(circuit2)\n",
        "    final_state_vector = result.final_state_vector\n",
        "    cirq_results[i] = np.abs(final_state_vector[0]**2)\n",
        "    prob.append(np.abs(final_state_vector[0]**2))\n",
        "    # cirq_results.append(np.abs(final_state_vector[0]**2))\n",
        "    print(f\"Probability of measuring |0> for angle, theta = {i}*pi/{n} is:\" + str(np.abs(final_state_vector[0]**2)), i, n)\n",
        "     \n",
        "print(prob)\n",
        "# print(\"Probabilities of observing each state:\", [abs(x)**2 for x in cirq_results])\n"
      ],
      "id": "viral-blake",
      "execution_count": 40,
      "outputs": [
        {
          "output_type": "stream",
          "text": [
            "Enter a value of n:120\n",
            "Probability of measuring |0> for angle, theta = 0*pi/120 is:1.0 0 120\n",
            "Probability of measuring |0> for angle, theta = 1*pi/120 is:1.0 1 120\n",
            "Probability of measuring |0> for angle, theta = 2*pi/120 is:0.999999880790714 2 120\n",
            "Probability of measuring |0> for angle, theta = 3*pi/120 is:0.999999880790714 3 120\n",
            "Probability of measuring |0> for angle, theta = 4*pi/120 is:0.999999880790714 4 120\n",
            "Probability of measuring |0> for angle, theta = 5*pi/120 is:1.0 5 120\n",
            "Probability of measuring |0> for angle, theta = 6*pi/120 is:0.999999880790714 6 120\n",
            "Probability of measuring |0> for angle, theta = 7*pi/120 is:0.999999880790714 7 120\n",
            "Probability of measuring |0> for angle, theta = 8*pi/120 is:1.0 8 120\n",
            "Probability of measuring |0> for angle, theta = 9*pi/120 is:1.0 9 120\n",
            "Probability of measuring |0> for angle, theta = 10*pi/120 is:1.0 10 120\n",
            "Probability of measuring |0> for angle, theta = 11*pi/120 is:0.999999880790714 11 120\n",
            "Probability of measuring |0> for angle, theta = 12*pi/120 is:1.0 12 120\n",
            "Probability of measuring |0> for angle, theta = 13*pi/120 is:1.0 13 120\n",
            "Probability of measuring |0> for angle, theta = 14*pi/120 is:1.0 14 120\n",
            "Probability of measuring |0> for angle, theta = 15*pi/120 is:1.0 15 120\n",
            "Probability of measuring |0> for angle, theta = 16*pi/120 is:1.0000002384185933 16 120\n",
            "Probability of measuring |0> for angle, theta = 17*pi/120 is:1.0 17 120\n",
            "Probability of measuring |0> for angle, theta = 18*pi/120 is:1.0 18 120\n",
            "Probability of measuring |0> for angle, theta = 19*pi/120 is:1.0 19 120\n",
            "Probability of measuring |0> for angle, theta = 20*pi/120 is:1.0 20 120\n",
            "Probability of measuring |0> for angle, theta = 21*pi/120 is:0.999999880790714 21 120\n",
            "Probability of measuring |0> for angle, theta = 22*pi/120 is:0.999999880790714 22 120\n",
            "Probability of measuring |0> for angle, theta = 23*pi/120 is:1.0 23 120\n",
            "Probability of measuring |0> for angle, theta = 24*pi/120 is:1.0 24 120\n",
            "Probability of measuring |0> for angle, theta = 25*pi/120 is:0.999999880790714 25 120\n",
            "Probability of measuring |0> for angle, theta = 26*pi/120 is:1.0 26 120\n",
            "Probability of measuring |0> for angle, theta = 27*pi/120 is:1.0 27 120\n",
            "Probability of measuring |0> for angle, theta = 28*pi/120 is:0.999999880790714 28 120\n",
            "Probability of measuring |0> for angle, theta = 29*pi/120 is:0.999999880790714 29 120\n",
            "Probability of measuring |0> for angle, theta = 30*pi/120 is:0.0 30 120\n",
            "Probability of measuring |0> for angle, theta = 31*pi/120 is:1.0 31 120\n",
            "Probability of measuring |0> for angle, theta = 32*pi/120 is:1.0 32 120\n",
            "Probability of measuring |0> for angle, theta = 33*pi/120 is:0.0 33 120\n",
            "Probability of measuring |0> for angle, theta = 34*pi/120 is:0.999999880790714 34 120\n",
            "Probability of measuring |0> for angle, theta = 35*pi/120 is:1.0 35 120\n",
            "Probability of measuring |0> for angle, theta = 36*pi/120 is:1.0 36 120\n",
            "Probability of measuring |0> for angle, theta = 37*pi/120 is:0.999999880790714 37 120\n",
            "Probability of measuring |0> for angle, theta = 38*pi/120 is:0.0 38 120\n",
            "Probability of measuring |0> for angle, theta = 39*pi/120 is:0.999999880790714 39 120\n",
            "Probability of measuring |0> for angle, theta = 40*pi/120 is:0.999999880790714 40 120\n",
            "Probability of measuring |0> for angle, theta = 41*pi/120 is:1.0 41 120\n",
            "Probability of measuring |0> for angle, theta = 42*pi/120 is:1.0 42 120\n",
            "Probability of measuring |0> for angle, theta = 43*pi/120 is:0.0 43 120\n",
            "Probability of measuring |0> for angle, theta = 44*pi/120 is:0.999999880790714 44 120\n",
            "Probability of measuring |0> for angle, theta = 45*pi/120 is:1.0 45 120\n",
            "Probability of measuring |0> for angle, theta = 46*pi/120 is:1.0 46 120\n",
            "Probability of measuring |0> for angle, theta = 47*pi/120 is:1.0 47 120\n",
            "Probability of measuring |0> for angle, theta = 48*pi/120 is:1.0 48 120\n",
            "Probability of measuring |0> for angle, theta = 49*pi/120 is:1.0 49 120\n",
            "Probability of measuring |0> for angle, theta = 50*pi/120 is:1.0 50 120\n",
            "Probability of measuring |0> for angle, theta = 51*pi/120 is:0.0 51 120\n",
            "Probability of measuring |0> for angle, theta = 52*pi/120 is:1.0 52 120\n",
            "Probability of measuring |0> for angle, theta = 53*pi/120 is:0.0 53 120\n",
            "Probability of measuring |0> for angle, theta = 54*pi/120 is:0.999999880790714 54 120\n",
            "Probability of measuring |0> for angle, theta = 55*pi/120 is:0.999999880790714 55 120\n",
            "Probability of measuring |0> for angle, theta = 56*pi/120 is:1.0 56 120\n",
            "Probability of measuring |0> for angle, theta = 57*pi/120 is:0.0 57 120\n",
            "Probability of measuring |0> for angle, theta = 58*pi/120 is:0.0 58 120\n",
            "Probability of measuring |0> for angle, theta = 59*pi/120 is:1.0 59 120\n",
            "Probability of measuring |0> for angle, theta = 60*pi/120 is:0.999999880790714 60 120\n",
            "Probability of measuring |0> for angle, theta = 61*pi/120 is:0.0 61 120\n",
            "Probability of measuring |0> for angle, theta = 62*pi/120 is:0.0 62 120\n",
            "Probability of measuring |0> for angle, theta = 63*pi/120 is:0.0 63 120\n",
            "Probability of measuring |0> for angle, theta = 64*pi/120 is:1.0 64 120\n",
            "Probability of measuring |0> for angle, theta = 65*pi/120 is:1.0 65 120\n",
            "Probability of measuring |0> for angle, theta = 66*pi/120 is:0.0 66 120\n",
            "Probability of measuring |0> for angle, theta = 67*pi/120 is:1.0 67 120\n",
            "Probability of measuring |0> for angle, theta = 68*pi/120 is:0.0 68 120\n",
            "Probability of measuring |0> for angle, theta = 69*pi/120 is:0.0 69 120\n",
            "Probability of measuring |0> for angle, theta = 70*pi/120 is:0.0 70 120\n",
            "Probability of measuring |0> for angle, theta = 71*pi/120 is:0.0 71 120\n",
            "Probability of measuring |0> for angle, theta = 72*pi/120 is:0.0 72 120\n",
            "Probability of measuring |0> for angle, theta = 73*pi/120 is:1.0 73 120\n",
            "Probability of measuring |0> for angle, theta = 74*pi/120 is:0.0 74 120\n",
            "Probability of measuring |0> for angle, theta = 75*pi/120 is:0.0 75 120\n",
            "Probability of measuring |0> for angle, theta = 76*pi/120 is:1.0 76 120\n",
            "Probability of measuring |0> for angle, theta = 77*pi/120 is:0.0 77 120\n",
            "Probability of measuring |0> for angle, theta = 78*pi/120 is:0.0 78 120\n",
            "Probability of measuring |0> for angle, theta = 79*pi/120 is:0.0 79 120\n",
            "Probability of measuring |0> for angle, theta = 80*pi/120 is:0.0 80 120\n",
            "Probability of measuring |0> for angle, theta = 81*pi/120 is:1.0 81 120\n",
            "Probability of measuring |0> for angle, theta = 82*pi/120 is:1.0 82 120\n",
            "Probability of measuring |0> for angle, theta = 83*pi/120 is:0.0 83 120\n",
            "Probability of measuring |0> for angle, theta = 84*pi/120 is:0.0 84 120\n",
            "Probability of measuring |0> for angle, theta = 85*pi/120 is:0.0 85 120\n",
            "Probability of measuring |0> for angle, theta = 86*pi/120 is:1.0 86 120\n",
            "Probability of measuring |0> for angle, theta = 87*pi/120 is:0.0 87 120\n",
            "Probability of measuring |0> for angle, theta = 88*pi/120 is:0.0 88 120\n",
            "Probability of measuring |0> for angle, theta = 89*pi/120 is:0.0 89 120\n",
            "Probability of measuring |0> for angle, theta = 90*pi/120 is:0.0 90 120\n",
            "Probability of measuring |0> for angle, theta = 91*pi/120 is:0.0 91 120\n",
            "Probability of measuring |0> for angle, theta = 92*pi/120 is:0.0 92 120\n",
            "Probability of measuring |0> for angle, theta = 93*pi/120 is:0.0 93 120\n",
            "Probability of measuring |0> for angle, theta = 94*pi/120 is:0.0 94 120\n",
            "Probability of measuring |0> for angle, theta = 95*pi/120 is:0.0 95 120\n",
            "Probability of measuring |0> for angle, theta = 96*pi/120 is:0.0 96 120\n",
            "Probability of measuring |0> for angle, theta = 97*pi/120 is:0.0 97 120\n",
            "Probability of measuring |0> for angle, theta = 98*pi/120 is:0.0 98 120\n",
            "Probability of measuring |0> for angle, theta = 99*pi/120 is:0.0 99 120\n",
            "Probability of measuring |0> for angle, theta = 100*pi/120 is:0.0 100 120\n",
            "Probability of measuring |0> for angle, theta = 101*pi/120 is:0.0 101 120\n",
            "Probability of measuring |0> for angle, theta = 102*pi/120 is:0.0 102 120\n",
            "Probability of measuring |0> for angle, theta = 103*pi/120 is:1.0 103 120\n",
            "Probability of measuring |0> for angle, theta = 104*pi/120 is:0.0 104 120\n",
            "Probability of measuring |0> for angle, theta = 105*pi/120 is:0.0 105 120\n",
            "Probability of measuring |0> for angle, theta = 106*pi/120 is:0.0 106 120\n",
            "Probability of measuring |0> for angle, theta = 107*pi/120 is:0.0 107 120\n",
            "Probability of measuring |0> for angle, theta = 108*pi/120 is:0.0 108 120\n",
            "Probability of measuring |0> for angle, theta = 109*pi/120 is:0.0 109 120\n",
            "Probability of measuring |0> for angle, theta = 110*pi/120 is:0.0 110 120\n",
            "Probability of measuring |0> for angle, theta = 111*pi/120 is:0.0 111 120\n",
            "Probability of measuring |0> for angle, theta = 112*pi/120 is:0.0 112 120\n",
            "Probability of measuring |0> for angle, theta = 113*pi/120 is:0.0 113 120\n",
            "Probability of measuring |0> for angle, theta = 114*pi/120 is:0.0 114 120\n",
            "Probability of measuring |0> for angle, theta = 115*pi/120 is:0.0 115 120\n",
            "Probability of measuring |0> for angle, theta = 116*pi/120 is:0.0 116 120\n",
            "Probability of measuring |0> for angle, theta = 117*pi/120 is:0.0 117 120\n",
            "Probability of measuring |0> for angle, theta = 118*pi/120 is:0.0 118 120\n",
            "Probability of measuring |0> for angle, theta = 119*pi/120 is:0.0 119 120\n",
            "[1.0, 1.0, 0.999999880790714, 0.999999880790714, 0.999999880790714, 1.0, 0.999999880790714, 0.999999880790714, 1.0, 1.0, 1.0, 0.999999880790714, 1.0, 1.0, 1.0, 1.0, 1.0000002384185933, 1.0, 1.0, 1.0, 1.0, 0.999999880790714, 0.999999880790714, 1.0, 1.0, 0.999999880790714, 1.0, 1.0, 0.999999880790714, 0.999999880790714, 0.0, 1.0, 1.0, 0.0, 0.999999880790714, 1.0, 1.0, 0.999999880790714, 0.0, 0.999999880790714, 0.999999880790714, 1.0, 1.0, 0.0, 0.999999880790714, 1.0, 1.0, 1.0, 1.0, 1.0, 1.0, 0.0, 1.0, 0.0, 0.999999880790714, 0.999999880790714, 1.0, 0.0, 0.0, 1.0, 0.999999880790714, 0.0, 0.0, 0.0, 1.0, 1.0, 0.0, 1.0, 0.0, 0.0, 0.0, 0.0, 0.0, 1.0, 0.0, 0.0, 1.0, 0.0, 0.0, 0.0, 0.0, 1.0, 1.0, 0.0, 0.0, 0.0, 1.0, 0.0, 0.0, 0.0, 0.0, 0.0, 0.0, 0.0, 0.0, 0.0, 0.0, 0.0, 0.0, 0.0, 0.0, 0.0, 0.0, 1.0, 0.0, 0.0, 0.0, 0.0, 0.0, 0.0, 0.0, 0.0, 0.0, 0.0, 0.0, 0.0, 0.0, 0.0, 0.0, 0.0]\n"
          ],
          "name": "stdout"
        }
      ]
    }
  ]
}